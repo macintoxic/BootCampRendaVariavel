{
  "cells": [
    {
      "cell_type": "markdown",
      "metadata": {
        "colab_type": "text",
        "id": "view-in-github"
      },
      "source": [
        "<a href=\"https://colab.research.google.com/github/macintoxic/BootCampRendaVariavel/blob/main/desafio_1/desafio_1.ipynb\" target=\"_parent\"><img src=\"https://colab.research.google.com/assets/colab-badge.svg\" alt=\"Open In Colab\"/></a>"
      ]
    },
    {
      "cell_type": "markdown",
      "metadata": {
        "id": "YHLrYFfQqaqX"
      },
      "source": [
        "# DESM1 - Desafio do Módulo 1\n",
        "## Cria as pastas do projeto e baixa os arquivos do github\n"
      ]
    },
    {
      "cell_type": "code",
      "execution_count": null,
      "metadata": {},
      "outputs": [],
      "source": [
        "#instala as bibliotecas necessárias.\n",
        "#no google colab elas já estão instaladas por padrão\n",
        "#!pip install pandas matplotlib openpyxl mplfinance"
      ]
    },
    {
      "cell_type": "code",
      "execution_count": 11,
      "metadata": {
        "colab": {
          "base_uri": "https://localhost:8080/"
        },
        "id": "IVuBqrFO2OjW",
        "outputId": "c4613e04-4824-46e3-f36a-43d587a86c09"
      },
      "outputs": [
        {
          "name": "stdout",
          "output_type": "stream",
          "text": [
            "mkdir: cannot create directory ‘/content/01_Bruto’: File exists\n",
            "mkdir: cannot create directory ‘/content/02_Limpo’: File exists\n",
            "mkdir: cannot create directory ‘/content/03_Saidas’: File exists\n",
            "--2023-03-20 20:43:42--  https://github.com/macintoxic/BootCampRendaVariavel/raw/main/desafio_1/01_Bruto/statusinvest-busca-avancada-fii.csv\n",
            "Resolving github.com (github.com)... 140.82.114.3\n",
            "Connecting to github.com (github.com)|140.82.114.3|:443... connected.\n",
            "HTTP request sent, awaiting response... 302 Found\n",
            "Location: https://raw.githubusercontent.com/macintoxic/BootCampRendaVariavel/main/desafio_1/01_Bruto/statusinvest-busca-avancada-fii.csv [following]\n",
            "--2023-03-20 20:43:42--  https://raw.githubusercontent.com/macintoxic/BootCampRendaVariavel/main/desafio_1/01_Bruto/statusinvest-busca-avancada-fii.csv\n",
            "Resolving raw.githubusercontent.com (raw.githubusercontent.com)... 185.199.108.133, 185.199.109.133, 185.199.110.133, ...\n",
            "Connecting to raw.githubusercontent.com (raw.githubusercontent.com)|185.199.108.133|:443... connected.\n",
            "HTTP request sent, awaiting response... 200 OK\n",
            "Length: 40467 (40K) [text/plain]\n",
            "Saving to: ‘/content/01_Bruto/statusinvest-busca-avancada-fii.csv’\n",
            "\n",
            "/content/01_Bruto/s 100%[===================>]  39.52K  --.-KB/s    in 0.003s  \n",
            "\n",
            "2023-03-20 20:43:42 (11.7 MB/s) - ‘/content/01_Bruto/statusinvest-busca-avancada-fii.csv’ saved [40467/40467]\n",
            "\n",
            "--2023-03-20 20:43:43--  https://github.com/macintoxic/BootCampRendaVariavel/raw/main/desafio_1/02_Limpo/statusinvest-busca-avancada-fii.xlsx\n",
            "Resolving github.com (github.com)... 140.82.114.3\n",
            "Connecting to github.com (github.com)|140.82.114.3|:443... connected.\n",
            "HTTP request sent, awaiting response... 302 Found\n",
            "Location: https://raw.githubusercontent.com/macintoxic/BootCampRendaVariavel/main/desafio_1/02_Limpo/statusinvest-busca-avancada-fii.xlsx [following]\n",
            "--2023-03-20 20:43:43--  https://raw.githubusercontent.com/macintoxic/BootCampRendaVariavel/main/desafio_1/02_Limpo/statusinvest-busca-avancada-fii.xlsx\n",
            "Resolving raw.githubusercontent.com (raw.githubusercontent.com)... 185.199.108.133, 185.199.109.133, 185.199.110.133, ...\n",
            "Connecting to raw.githubusercontent.com (raw.githubusercontent.com)|185.199.108.133|:443... connected.\n",
            "HTTP request sent, awaiting response... 200 OK\n",
            "Length: 60342 (59K) [application/octet-stream]\n",
            "Saving to: ‘/content/02_Limpo/statusinvest-busca-avancada-fii.xlsx’\n",
            "\n",
            "/content/02_Limpo/s 100%[===================>]  58.93K  --.-KB/s    in 0.01s   \n",
            "\n",
            "2023-03-20 20:43:43 (4.73 MB/s) - ‘/content/02_Limpo/statusinvest-busca-avancada-fii.xlsx’ saved [60342/60342]\n",
            "\n",
            "--2023-03-20 20:43:43--  https://github.com/macintoxic/BootCampRendaVariavel/raw/main/desafio_1/01_Bruto/visc11.csv\n",
            "Resolving github.com (github.com)... 140.82.114.3\n",
            "Connecting to github.com (github.com)|140.82.114.3|:443... connected.\n",
            "HTTP request sent, awaiting response... 302 Found\n",
            "Location: https://raw.githubusercontent.com/macintoxic/BootCampRendaVariavel/main/desafio_1/01_Bruto/visc11.csv [following]\n",
            "--2023-03-20 20:43:43--  https://raw.githubusercontent.com/macintoxic/BootCampRendaVariavel/main/desafio_1/01_Bruto/visc11.csv\n",
            "Resolving raw.githubusercontent.com (raw.githubusercontent.com)... 185.199.111.133, 185.199.108.133, 185.199.109.133, ...\n",
            "Connecting to raw.githubusercontent.com (raw.githubusercontent.com)|185.199.111.133|:443... connected.\n",
            "HTTP request sent, awaiting response... 200 OK\n",
            "Length: 14885 (15K) [text/plain]\n",
            "Saving to: ‘/content/01_Bruto/visc11.csv’\n",
            "\n",
            "/content/01_Bruto/v 100%[===================>]  14.54K  --.-KB/s    in 0.001s  \n",
            "\n",
            "2023-03-20 20:43:43 (26.9 MB/s) - ‘/content/01_Bruto/visc11.csv’ saved [14885/14885]\n",
            "\n",
            "--2023-03-20 20:43:43--  https://github.com/macintoxic/BootCampRendaVariavel/raw/main/desafio_1/02_Limpo/visc11.xlsx\n",
            "Resolving github.com (github.com)... 140.82.114.3\n",
            "Connecting to github.com (github.com)|140.82.114.3|:443... connected.\n",
            "HTTP request sent, awaiting response... 302 Found\n",
            "Location: https://raw.githubusercontent.com/macintoxic/BootCampRendaVariavel/main/desafio_1/02_Limpo/visc11.xlsx [following]\n",
            "--2023-03-20 20:43:43--  https://raw.githubusercontent.com/macintoxic/BootCampRendaVariavel/main/desafio_1/02_Limpo/visc11.xlsx\n",
            "Resolving raw.githubusercontent.com (raw.githubusercontent.com)... 185.199.108.133, 185.199.109.133, 185.199.110.133, ...\n",
            "Connecting to raw.githubusercontent.com (raw.githubusercontent.com)|185.199.108.133|:443... connected.\n",
            "HTTP request sent, awaiting response... 200 OK\n",
            "Length: 25301 (25K) [application/octet-stream]\n",
            "Saving to: ‘/content/02_Limpo/visc11.xlsx’\n",
            "\n",
            "/content/02_Limpo/v 100%[===================>]  24.71K  --.-KB/s    in 0.002s  \n",
            "\n",
            "2023-03-20 20:43:43 (13.8 MB/s) - ‘/content/02_Limpo/visc11.xlsx’ saved [25301/25301]\n",
            "\n"
          ]
        }
      ],
      "source": [
        "#cria as pastas\n",
        "!mkdir /content/01_Bruto\n",
        "!mkdir /content/02_Limpo\n",
        "!mkdir /content/03_Saidas\n",
        "\n",
        "!wget -O /content/01_Bruto/statusinvest-busca-avancada-fii.csv https://github.com/macintoxic/BootCampRendaVariavel/raw/main/desafio_1/01_Bruto/statusinvest-busca-avancada-fii.csv\n",
        "!wget -O /content/02_Limpo/statusinvest-busca-avancada-fii.xlsx https://github.com/macintoxic/BootCampRendaVariavel/raw/main/desafio_1/02_Limpo/statusinvest-busca-avancada-fii.xlsx\n",
        "\n",
        "!wget -O /content/01_Bruto/visc11.csv https://github.com/macintoxic/BootCampRendaVariavel/raw/main/desafio_1/01_Bruto/visc11.csv\n",
        "!wget -O /content/02_Limpo/visc11.xlsx https://github.com/macintoxic/BootCampRendaVariavel/raw/main/desafio_1/02_Limpo/visc11.xlsx\n",
        "\n",
        "#!wget -O /content/02_Limpo/statusinvest-busca-avancada2.xlsx https://github.com/macintoxic/BootCampRendaVariavel/raw/main/trabalho_pratico1/02_Limpo/statusinvest-busca-avancada2.xlsx"
      ]
    },
    {
      "cell_type": "markdown",
      "metadata": {
        "id": "X2hnQi1OvTiM"
      },
      "source": [
        "## Faça uma análise exploratório desta base de dados dos FIIs."
      ]
    },
    {
      "cell_type": "code",
      "execution_count": 148,
      "metadata": {
        "colab": {
          "base_uri": "https://localhost:8080/",
          "height": 206
        },
        "id": "_CVEOEpAvUtd",
        "outputId": "c6ee70ee-a83d-4159-e154-ac83fb636ef9"
      },
      "outputs": [
        {
          "data": {
            "text/html": [
              "\n",
              "  <div id=\"df-f5c6fddd-ef20-48e6-a589-4034d70e4bb7\">\n",
              "    <div class=\"colab-df-container\">\n",
              "      <div>\n",
              "<style scoped>\n",
              "    .dataframe tbody tr th:only-of-type {\n",
              "        vertical-align: middle;\n",
              "    }\n",
              "\n",
              "    .dataframe tbody tr th {\n",
              "        vertical-align: top;\n",
              "    }\n",
              "\n",
              "    .dataframe thead th {\n",
              "        text-align: right;\n",
              "    }\n",
              "</style>\n",
              "<table border=\"1\" class=\"dataframe\">\n",
              "  <thead>\n",
              "    <tr style=\"text-align: right;\">\n",
              "      <th></th>\n",
              "      <th>Date</th>\n",
              "      <th>Price</th>\n",
              "      <th>Open</th>\n",
              "      <th>High</th>\n",
              "      <th>Low</th>\n",
              "      <th>Vol.</th>\n",
              "      <th>Change %</th>\n",
              "    </tr>\n",
              "  </thead>\n",
              "  <tbody>\n",
              "    <tr>\n",
              "      <th>0</th>\n",
              "      <td>2023-10-03 00:00:00</td>\n",
              "      <td>103.50</td>\n",
              "      <td>104.70</td>\n",
              "      <td>106.80</td>\n",
              "      <td>103.50</td>\n",
              "      <td>41.15K</td>\n",
              "      <td>-0.0114</td>\n",
              "    </tr>\n",
              "    <tr>\n",
              "      <th>1</th>\n",
              "      <td>2023-09-03 00:00:00</td>\n",
              "      <td>104.69</td>\n",
              "      <td>105.04</td>\n",
              "      <td>105.44</td>\n",
              "      <td>104.60</td>\n",
              "      <td>16.35K</td>\n",
              "      <td>-0.0033</td>\n",
              "    </tr>\n",
              "    <tr>\n",
              "      <th>2</th>\n",
              "      <td>2023-08-03 00:00:00</td>\n",
              "      <td>105.04</td>\n",
              "      <td>105.00</td>\n",
              "      <td>105.90</td>\n",
              "      <td>105.00</td>\n",
              "      <td>18.17K</td>\n",
              "      <td>0.0004</td>\n",
              "    </tr>\n",
              "    <tr>\n",
              "      <th>3</th>\n",
              "      <td>2023-07-03 00:00:00</td>\n",
              "      <td>105.00</td>\n",
              "      <td>104.96</td>\n",
              "      <td>105.50</td>\n",
              "      <td>104.57</td>\n",
              "      <td>26.25K</td>\n",
              "      <td>0.0004</td>\n",
              "    </tr>\n",
              "    <tr>\n",
              "      <th>4</th>\n",
              "      <td>2023-06-03 00:00:00</td>\n",
              "      <td>104.96</td>\n",
              "      <td>104.48</td>\n",
              "      <td>105.47</td>\n",
              "      <td>104.01</td>\n",
              "      <td>20.52K</td>\n",
              "      <td>0.0046</td>\n",
              "    </tr>\n",
              "  </tbody>\n",
              "</table>\n",
              "</div>\n",
              "      <button class=\"colab-df-convert\" onclick=\"convertToInteractive('df-f5c6fddd-ef20-48e6-a589-4034d70e4bb7')\"\n",
              "              title=\"Convert this dataframe to an interactive table.\"\n",
              "              style=\"display:none;\">\n",
              "        \n",
              "  <svg xmlns=\"http://www.w3.org/2000/svg\" height=\"24px\"viewBox=\"0 0 24 24\"\n",
              "       width=\"24px\">\n",
              "    <path d=\"M0 0h24v24H0V0z\" fill=\"none\"/>\n",
              "    <path d=\"M18.56 5.44l.94 2.06.94-2.06 2.06-.94-2.06-.94-.94-2.06-.94 2.06-2.06.94zm-11 1L8.5 8.5l.94-2.06 2.06-.94-2.06-.94L8.5 2.5l-.94 2.06-2.06.94zm10 10l.94 2.06.94-2.06 2.06-.94-2.06-.94-.94-2.06-.94 2.06-2.06.94z\"/><path d=\"M17.41 7.96l-1.37-1.37c-.4-.4-.92-.59-1.43-.59-.52 0-1.04.2-1.43.59L10.3 9.45l-7.72 7.72c-.78.78-.78 2.05 0 2.83L4 21.41c.39.39.9.59 1.41.59.51 0 1.02-.2 1.41-.59l7.78-7.78 2.81-2.81c.8-.78.8-2.07 0-2.86zM5.41 20L4 18.59l7.72-7.72 1.47 1.35L5.41 20z\"/>\n",
              "  </svg>\n",
              "      </button>\n",
              "      \n",
              "  <style>\n",
              "    .colab-df-container {\n",
              "      display:flex;\n",
              "      flex-wrap:wrap;\n",
              "      gap: 12px;\n",
              "    }\n",
              "\n",
              "    .colab-df-convert {\n",
              "      background-color: #E8F0FE;\n",
              "      border: none;\n",
              "      border-radius: 50%;\n",
              "      cursor: pointer;\n",
              "      display: none;\n",
              "      fill: #1967D2;\n",
              "      height: 32px;\n",
              "      padding: 0 0 0 0;\n",
              "      width: 32px;\n",
              "    }\n",
              "\n",
              "    .colab-df-convert:hover {\n",
              "      background-color: #E2EBFA;\n",
              "      box-shadow: 0px 1px 2px rgba(60, 64, 67, 0.3), 0px 1px 3px 1px rgba(60, 64, 67, 0.15);\n",
              "      fill: #174EA6;\n",
              "    }\n",
              "\n",
              "    [theme=dark] .colab-df-convert {\n",
              "      background-color: #3B4455;\n",
              "      fill: #D2E3FC;\n",
              "    }\n",
              "\n",
              "    [theme=dark] .colab-df-convert:hover {\n",
              "      background-color: #434B5C;\n",
              "      box-shadow: 0px 1px 3px 1px rgba(0, 0, 0, 0.15);\n",
              "      filter: drop-shadow(0px 1px 2px rgba(0, 0, 0, 0.3));\n",
              "      fill: #FFFFFF;\n",
              "    }\n",
              "  </style>\n",
              "\n",
              "      <script>\n",
              "        const buttonEl =\n",
              "          document.querySelector('#df-f5c6fddd-ef20-48e6-a589-4034d70e4bb7 button.colab-df-convert');\n",
              "        buttonEl.style.display =\n",
              "          google.colab.kernel.accessAllowed ? 'block' : 'none';\n",
              "\n",
              "        async function convertToInteractive(key) {\n",
              "          const element = document.querySelector('#df-f5c6fddd-ef20-48e6-a589-4034d70e4bb7');\n",
              "          const dataTable =\n",
              "            await google.colab.kernel.invokeFunction('convertToInteractive',\n",
              "                                                     [key], {});\n",
              "          if (!dataTable) return;\n",
              "\n",
              "          const docLinkHtml = 'Like what you see? Visit the ' +\n",
              "            '<a target=\"_blank\" href=https://colab.research.google.com/notebooks/data_table.ipynb>data table notebook</a>'\n",
              "            + ' to learn more about interactive tables.';\n",
              "          element.innerHTML = '';\n",
              "          dataTable['output_type'] = 'display_data';\n",
              "          await google.colab.output.renderOutput(dataTable, element);\n",
              "          const docLink = document.createElement('div');\n",
              "          docLink.innerHTML = docLinkHtml;\n",
              "          element.appendChild(docLink);\n",
              "        }\n",
              "      </script>\n",
              "    </div>\n",
              "  </div>\n",
              "  "
            ],
            "text/plain": [
              "                  Date   Price    Open    High     Low    Vol.  Change %\n",
              "0  2023-10-03 00:00:00  103.50  104.70  106.80  103.50  41.15K   -0.0114\n",
              "1  2023-09-03 00:00:00  104.69  105.04  105.44  104.60  16.35K   -0.0033\n",
              "2  2023-08-03 00:00:00  105.04  105.00  105.90  105.00  18.17K    0.0004\n",
              "3  2023-07-03 00:00:00  105.00  104.96  105.50  104.57  26.25K    0.0004\n",
              "4  2023-06-03 00:00:00  104.96  104.48  105.47  104.01  20.52K    0.0046"
            ]
          },
          "execution_count": 148,
          "metadata": {},
          "output_type": "execute_result"
        }
      ],
      "source": [
        "import pandas as pd\n",
        "import matplotlib.pyplot as plt\n",
        "\n",
        "\n",
        "visc11 = pd.read_excel(\"/content/02_Limpo/visc11.xlsx\")\n",
        "visc11.head()\n",
        "\n",
        "\n",
        "\n"
      ]
    },
    {
      "cell_type": "code",
      "execution_count": 13,
      "metadata": {
        "colab": {
          "base_uri": "https://localhost:8080/",
          "height": 206
        },
        "id": "Vqc610Jmv0Qh",
        "outputId": "259ca568-d1bf-46df-9a17-8510a9ab7d02"
      },
      "outputs": [
        {
          "data": {
            "text/html": [
              "\n",
              "  <div id=\"df-75cc23b9-5118-43fe-b37b-fbb746a2f2b0\">\n",
              "    <div class=\"colab-df-container\">\n",
              "      <div>\n",
              "<style scoped>\n",
              "    .dataframe tbody tr th:only-of-type {\n",
              "        vertical-align: middle;\n",
              "    }\n",
              "\n",
              "    .dataframe tbody tr th {\n",
              "        vertical-align: top;\n",
              "    }\n",
              "\n",
              "    .dataframe thead th {\n",
              "        text-align: right;\n",
              "    }\n",
              "</style>\n",
              "<table border=\"1\" class=\"dataframe\">\n",
              "  <thead>\n",
              "    <tr style=\"text-align: right;\">\n",
              "      <th></th>\n",
              "      <th>TICKER</th>\n",
              "      <th>PRECO</th>\n",
              "      <th>ULTIMO DIVIDENDO</th>\n",
              "      <th>DY</th>\n",
              "      <th>VALOR PATRIMONIAL COTA</th>\n",
              "      <th>P/VP</th>\n",
              "      <th>LIQUIDEZ MEDIA DIARIA</th>\n",
              "      <th>PERCENTUAL EM CAIXA</th>\n",
              "      <th>CAGR DIVIDENDOS 3 ANOS</th>\n",
              "      <th>CAGR VALOR CORA 3 ANOS</th>\n",
              "      <th>PATRIMONIO</th>\n",
              "      <th>N COTISTAS</th>\n",
              "      <th>GESTAO</th>\n",
              "      <th>N COTAS</th>\n",
              "    </tr>\n",
              "  </thead>\n",
              "  <tbody>\n",
              "    <tr>\n",
              "      <th>0</th>\n",
              "      <td>CJFI11</td>\n",
              "      <td>0.00</td>\n",
              "      <td>0.00</td>\n",
              "      <td>0.00</td>\n",
              "      <td>2.60</td>\n",
              "      <td>0.00</td>\n",
              "      <td>0.00</td>\n",
              "      <td>1.21</td>\n",
              "      <td>0.00</td>\n",
              "      <td>0.00</td>\n",
              "      <td>1.369559e+08</td>\n",
              "      <td>1</td>\n",
              "      <td>Ativa</td>\n",
              "      <td>52601278</td>\n",
              "    </tr>\n",
              "    <tr>\n",
              "      <th>1</th>\n",
              "      <td>RBVA11</td>\n",
              "      <td>90.67</td>\n",
              "      <td>0.95</td>\n",
              "      <td>13.18</td>\n",
              "      <td>106.57</td>\n",
              "      <td>0.86</td>\n",
              "      <td>893175.85</td>\n",
              "      <td>0.77</td>\n",
              "      <td>4.89</td>\n",
              "      <td>-5.95</td>\n",
              "      <td>1.234967e+09</td>\n",
              "      <td>45948</td>\n",
              "      <td>Ativa</td>\n",
              "      <td>11588199</td>\n",
              "    </tr>\n",
              "    <tr>\n",
              "      <th>2</th>\n",
              "      <td>QAMI11</td>\n",
              "      <td>78.34</td>\n",
              "      <td>0.95</td>\n",
              "      <td>15.68</td>\n",
              "      <td>91.99</td>\n",
              "      <td>0.85</td>\n",
              "      <td>21992.53</td>\n",
              "      <td>4.06</td>\n",
              "      <td>0.00</td>\n",
              "      <td>0.00</td>\n",
              "      <td>7.371748e+07</td>\n",
              "      <td>1487</td>\n",
              "      <td>Ativa</td>\n",
              "      <td>801398</td>\n",
              "    </tr>\n",
              "    <tr>\n",
              "      <th>3</th>\n",
              "      <td>CPTS11</td>\n",
              "      <td>75.73</td>\n",
              "      <td>0.76</td>\n",
              "      <td>14.47</td>\n",
              "      <td>87.72</td>\n",
              "      <td>0.86</td>\n",
              "      <td>5554568.32</td>\n",
              "      <td>4.88</td>\n",
              "      <td>3.59</td>\n",
              "      <td>-4.51</td>\n",
              "      <td>2.788111e+09</td>\n",
              "      <td>211167</td>\n",
              "      <td>Ativa</td>\n",
              "      <td>31782814</td>\n",
              "    </tr>\n",
              "    <tr>\n",
              "      <th>4</th>\n",
              "      <td>PABY11</td>\n",
              "      <td>13.14</td>\n",
              "      <td>0.00</td>\n",
              "      <td>0.00</td>\n",
              "      <td>-16.53</td>\n",
              "      <td>0.00</td>\n",
              "      <td>2922.15</td>\n",
              "      <td>0.00</td>\n",
              "      <td>0.00</td>\n",
              "      <td>2.65</td>\n",
              "      <td>-1.253695e+07</td>\n",
              "      <td>698</td>\n",
              "      <td>Passiva</td>\n",
              "      <td>758400</td>\n",
              "    </tr>\n",
              "  </tbody>\n",
              "</table>\n",
              "</div>\n",
              "      <button class=\"colab-df-convert\" onclick=\"convertToInteractive('df-75cc23b9-5118-43fe-b37b-fbb746a2f2b0')\"\n",
              "              title=\"Convert this dataframe to an interactive table.\"\n",
              "              style=\"display:none;\">\n",
              "        \n",
              "  <svg xmlns=\"http://www.w3.org/2000/svg\" height=\"24px\"viewBox=\"0 0 24 24\"\n",
              "       width=\"24px\">\n",
              "    <path d=\"M0 0h24v24H0V0z\" fill=\"none\"/>\n",
              "    <path d=\"M18.56 5.44l.94 2.06.94-2.06 2.06-.94-2.06-.94-.94-2.06-.94 2.06-2.06.94zm-11 1L8.5 8.5l.94-2.06 2.06-.94-2.06-.94L8.5 2.5l-.94 2.06-2.06.94zm10 10l.94 2.06.94-2.06 2.06-.94-2.06-.94-.94-2.06-.94 2.06-2.06.94z\"/><path d=\"M17.41 7.96l-1.37-1.37c-.4-.4-.92-.59-1.43-.59-.52 0-1.04.2-1.43.59L10.3 9.45l-7.72 7.72c-.78.78-.78 2.05 0 2.83L4 21.41c.39.39.9.59 1.41.59.51 0 1.02-.2 1.41-.59l7.78-7.78 2.81-2.81c.8-.78.8-2.07 0-2.86zM5.41 20L4 18.59l7.72-7.72 1.47 1.35L5.41 20z\"/>\n",
              "  </svg>\n",
              "      </button>\n",
              "      \n",
              "  <style>\n",
              "    .colab-df-container {\n",
              "      display:flex;\n",
              "      flex-wrap:wrap;\n",
              "      gap: 12px;\n",
              "    }\n",
              "\n",
              "    .colab-df-convert {\n",
              "      background-color: #E8F0FE;\n",
              "      border: none;\n",
              "      border-radius: 50%;\n",
              "      cursor: pointer;\n",
              "      display: none;\n",
              "      fill: #1967D2;\n",
              "      height: 32px;\n",
              "      padding: 0 0 0 0;\n",
              "      width: 32px;\n",
              "    }\n",
              "\n",
              "    .colab-df-convert:hover {\n",
              "      background-color: #E2EBFA;\n",
              "      box-shadow: 0px 1px 2px rgba(60, 64, 67, 0.3), 0px 1px 3px 1px rgba(60, 64, 67, 0.15);\n",
              "      fill: #174EA6;\n",
              "    }\n",
              "\n",
              "    [theme=dark] .colab-df-convert {\n",
              "      background-color: #3B4455;\n",
              "      fill: #D2E3FC;\n",
              "    }\n",
              "\n",
              "    [theme=dark] .colab-df-convert:hover {\n",
              "      background-color: #434B5C;\n",
              "      box-shadow: 0px 1px 3px 1px rgba(0, 0, 0, 0.15);\n",
              "      filter: drop-shadow(0px 1px 2px rgba(0, 0, 0, 0.3));\n",
              "      fill: #FFFFFF;\n",
              "    }\n",
              "  </style>\n",
              "\n",
              "      <script>\n",
              "        const buttonEl =\n",
              "          document.querySelector('#df-75cc23b9-5118-43fe-b37b-fbb746a2f2b0 button.colab-df-convert');\n",
              "        buttonEl.style.display =\n",
              "          google.colab.kernel.accessAllowed ? 'block' : 'none';\n",
              "\n",
              "        async function convertToInteractive(key) {\n",
              "          const element = document.querySelector('#df-75cc23b9-5118-43fe-b37b-fbb746a2f2b0');\n",
              "          const dataTable =\n",
              "            await google.colab.kernel.invokeFunction('convertToInteractive',\n",
              "                                                     [key], {});\n",
              "          if (!dataTable) return;\n",
              "\n",
              "          const docLinkHtml = 'Like what you see? Visit the ' +\n",
              "            '<a target=\"_blank\" href=https://colab.research.google.com/notebooks/data_table.ipynb>data table notebook</a>'\n",
              "            + ' to learn more about interactive tables.';\n",
              "          element.innerHTML = '';\n",
              "          dataTable['output_type'] = 'display_data';\n",
              "          await google.colab.output.renderOutput(dataTable, element);\n",
              "          const docLink = document.createElement('div');\n",
              "          docLink.innerHTML = docLinkHtml;\n",
              "          element.appendChild(docLink);\n",
              "        }\n",
              "      </script>\n",
              "    </div>\n",
              "  </div>\n",
              "  "
            ],
            "text/plain": [
              "   TICKER  PRECO  ULTIMO DIVIDENDO     DY  VALOR PATRIMONIAL COTA  P/VP  \\\n",
              "0  CJFI11   0.00              0.00   0.00                    2.60  0.00   \n",
              "1  RBVA11  90.67              0.95  13.18                  106.57  0.86   \n",
              "2  QAMI11  78.34              0.95  15.68                   91.99  0.85   \n",
              "3  CPTS11  75.73              0.76  14.47                   87.72  0.86   \n",
              "4  PABY11  13.14              0.00   0.00                  -16.53  0.00   \n",
              "\n",
              "   LIQUIDEZ MEDIA DIARIA  PERCENTUAL EM CAIXA  CAGR DIVIDENDOS 3 ANOS  \\\n",
              "0                   0.00                 1.21                    0.00   \n",
              "1              893175.85                 0.77                    4.89   \n",
              "2               21992.53                 4.06                    0.00   \n",
              "3             5554568.32                 4.88                    3.59   \n",
              "4                2922.15                 0.00                    0.00   \n",
              "\n",
              "    CAGR VALOR CORA 3 ANOS    PATRIMONIO  N COTISTAS   GESTAO   N COTAS  \n",
              "0                     0.00  1.369559e+08           1    Ativa  52601278  \n",
              "1                    -5.95  1.234967e+09       45948    Ativa  11588199  \n",
              "2                     0.00  7.371748e+07        1487    Ativa    801398  \n",
              "3                    -4.51  2.788111e+09      211167    Ativa  31782814  \n",
              "4                     2.65 -1.253695e+07         698  Passiva    758400  "
            ]
          },
          "execution_count": 13,
          "metadata": {},
          "output_type": "execute_result"
        }
      ],
      "source": [
        "fiis =  pd.read_excel(\"/content/02_Limpo/statusinvest-busca-avancada-fii.xlsx\")\n",
        "fiis.head()"
      ]
    },
    {
      "cell_type": "markdown",
      "metadata": {
        "id": "FWLb8LSYxHur"
      },
      "source": [
        "## Crie um gráfico de dispersão com o nome dos ativos no eixo X e os preços no eixo Y no tamanho 12 x 8.\n"
      ]
    },
    {
      "cell_type": "code",
      "execution_count": 31,
      "metadata": {
        "colab": {
          "base_uri": "https://localhost:8080/",
          "height": 500
        },
        "id": "mKuqwXLsxMUE",
        "outputId": "0403d620-b78b-40bf-d1e0-46abd0a26552"
      },
      "outputs": [
        {
          "data": {
            "text/plain": [
              "<matplotlib.lines.Line2D at 0x7eff52de8220>"
            ]
          },
          "execution_count": 31,
          "metadata": {},
          "output_type": "execute_result"
        },
        {
          "data": {
            "image/png": "[encoded data removed]",
            "text/plain": [
              "<Figure size 864x576 with 1 Axes>"
            ]
          },
          "metadata": {
            "needs_background": "light"
          },
          "output_type": "display_data"
        }
      ],
      "source": [
        "fig = plt.figure(figsize=(12,8))\n",
        "\n",
        "plt.scatter(fiis['TICKER'], fiis['PRECO'])\n",
        "\n"
      ]
    },
    {
      "cell_type": "markdown",
      "metadata": {
        "id": "ny6MHSohybq0"
      },
      "source": [
        "## Calcule o percentil de 95 dos dados."
      ]
    },
    {
      "cell_type": "code",
      "execution_count": 38,
      "metadata": {
        "colab": {
          "base_uri": "https://localhost:8080/"
        },
        "id": "aDrXUEoKybMD",
        "outputId": "da3ce9bb-8802-4018-a26c-1c9b4ab6469f"
      },
      "outputs": [
        {
          "data": {
            "text/plain": [
              "998.45"
            ]
          },
          "execution_count": 38,
          "metadata": {},
          "output_type": "execute_result"
        }
      ],
      "source": [
        "percentil = fiis['PRECO'].quantile(0.95)\n",
        "percentil"
      ]
    },
    {
      "cell_type": "markdown",
      "metadata": {
        "id": "FHUL3uxGyr9N"
      },
      "source": [
        "## Crie uma reta no gráfico com o valor encontrado cortando o eixo Y"
      ]
    },
    {
      "cell_type": "code",
      "execution_count": 45,
      "metadata": {
        "colab": {
          "base_uri": "https://localhost:8080/",
          "height": 265
        },
        "id": "m5qX_-eYytxA",
        "outputId": "60718733-3fa8-42df-cbc1-49173005d243"
      },
      "outputs": [
        {
          "data": {
            "image/png": "[encoded data removed]",
            "text/plain": [
              "<Figure size 432x288 with 1 Axes>"
            ]
          },
          "metadata": {
            "needs_background": "light"
          },
          "output_type": "display_data"
        }
      ],
      "source": [
        "\n",
        "plt.scatter(fiis['TICKER'], fiis['PRECO'])\n",
        "plt.axhline( percentil,color='r' )\n",
        "plt.show()\n"
      ]
    },
    {
      "cell_type": "markdown",
      "metadata": {
        "id": "vv_y4R-k4sLP"
      },
      "source": [
        "## Exclua os preços igual a zero e exclua os valores acima do percentil calculado anteriormente."
      ]
    },
    {
      "cell_type": "code",
      "execution_count": 60,
      "metadata": {
        "id": "Wo_9JJnn4vIm"
      },
      "outputs": [],
      "source": [
        "new_fiis = fiis[(fiis['PRECO'] > 0) & (fiis['PRECO'] < percentil)]"
      ]
    },
    {
      "cell_type": "markdown",
      "metadata": {
        "id": "mHXqx5QK6Bs9"
      },
      "source": [
        "## Salve esse dataframe em um novo Excel."
      ]
    },
    {
      "cell_type": "code",
      "execution_count": 63,
      "metadata": {
        "id": "UDtwgp-L5zAc"
      },
      "outputs": [],
      "source": [
        "new_fiis.to_excel('/content/02_Limpo/new-fii.xlsx')"
      ]
    },
    {
      "cell_type": "markdown",
      "metadata": {
        "id": "lXkVQrTC7SOa"
      },
      "source": [
        "## Refaça o gráfico de dispersão com o novo Excel."
      ]
    },
    {
      "cell_type": "code",
      "execution_count": 64,
      "metadata": {
        "colab": {
          "base_uri": "https://localhost:8080/",
          "height": 265
        },
        "id": "c5loIvFZ7VW7",
        "outputId": "fb56b5ee-e1e7-47ec-ca0f-cec140b3454d"
      },
      "outputs": [
        {
          "data": {
            "image/png": "[encoded data removed]",
            "text/plain": [
              "<Figure size 432x288 with 1 Axes>"
            ]
          },
          "metadata": {
            "needs_background": "light"
          },
          "output_type": "display_data"
        }
      ],
      "source": [
        "plt.scatter(new_fiis['TICKER'], new_fiis['PRECO'])\n",
        "plt.axhline( percentil,color='r' )\n",
        "plt.show()\n"
      ]
    },
    {
      "cell_type": "markdown",
      "metadata": {
        "id": "oEfAVuLg7nff"
      },
      "source": [
        "## Como ainda existem valores muito altos, limite o eixo Y com valores de 0 até R$ 200,00 e crie novamente o gráfico"
      ]
    },
    {
      "cell_type": "code",
      "execution_count": 102,
      "metadata": {
        "colab": {
          "base_uri": "https://localhost:8080/",
          "height": 300
        },
        "id": "JaSwPeSa_imp",
        "outputId": "85b2055e-d94b-4e7b-9119-18679dcba57d"
      },
      "outputs": [
        {
          "data": {
            "text/plain": [
              "(0.0, 200.0)"
            ]
          },
          "execution_count": 102,
          "metadata": {},
          "output_type": "execute_result"
        },
        {
          "data": {
            "image/png": "[encoded data removed]",
            "text/plain": [
              "<Figure size 432x288 with 1 Axes>"
            ]
          },
          "metadata": {
            "needs_background": "light"
          },
          "output_type": "display_data"
        }
      ],
      "source": [
        "ax = new_fiis.plot.scatter(x='TICKER', y='PRECO')\n",
        "ax.axhline(percentil,color='r')\n",
        "ax.set_ylim(top=200,bottom=0)\n"
      ]
    },
    {
      "cell_type": "markdown",
      "metadata": {
        "id": "ypGHL2avBAQO"
      },
      "source": [
        "## Agora crie um gráfico de dispersão com os valores de P/VP"
      ]
    },
    {
      "cell_type": "code",
      "execution_count": 100,
      "metadata": {
        "colab": {
          "base_uri": "https://localhost:8080/",
          "height": 314
        },
        "id": "IONGBEq-BCxM",
        "outputId": "dff11626-4512-4f97-d7f2-32ba0f1cc3a8"
      },
      "outputs": [
        {
          "name": "stderr",
          "output_type": "stream",
          "text": [
            "/usr/local/lib/python3.9/dist-packages/pandas/plotting/_matplotlib/core.py:1114: UserWarning: No data for colormapping provided via 'c'. Parameters 'cmap' will be ignored\n",
            "  scatter = ax.scatter(\n"
          ]
        },
        {
          "data": {
            "image/png": "[encoded data removed]",
            "text/plain": [
              "<Figure size 432x288 with 1 Axes>"
            ]
          },
          "metadata": {
            "needs_background": "light"
          },
          "output_type": "display_data"
        }
      ],
      "source": [
        "\n",
        "ax = new_fiis.plot.scatter(x='TICKER', y='P/VP')\n"
      ]
    },
    {
      "cell_type": "markdown",
      "metadata": {
        "id": "fjmWLgrVBSNk"
      },
      "source": [
        "## Exclua os valores menores que o percentil 5 e os maiores que o percentil 95"
      ]
    },
    {
      "cell_type": "code",
      "execution_count": 110,
      "metadata": {
        "id": "j0uYZyI2BT9o"
      },
      "outputs": [],
      "source": [
        "q5 = new_fiis['P/VP'].quantile(0.05)\n",
        "q95 = new_fiis['P/VP'].quantile(0.95)"
      ]
    },
    {
      "cell_type": "markdown",
      "metadata": {
        "id": "EBwfC6PKBiV7"
      },
      "source": [
        "## Crie um gráfico com os valores mantidos no passo anterior e trace uma linha no eixo Y com o valor igual a 1 (P/VP = 1 Valor Justo de um FII)."
      ]
    },
    {
      "cell_type": "code",
      "execution_count": 116,
      "metadata": {
        "colab": {
          "base_uri": "https://localhost:8080/",
          "height": 206
        },
        "id": "0PdQvjXIBlk_",
        "outputId": "e9f15627-4507-4c4b-85b7-4677822fba3e"
      },
      "outputs": [
        {
          "data": {
            "text/html": [
              "\n",
              "  <div id=\"df-c475b2db-421c-42c6-9554-2b98fd11ac92\">\n",
              "    <div class=\"colab-df-container\">\n",
              "      <div>\n",
              "<style scoped>\n",
              "    .dataframe tbody tr th:only-of-type {\n",
              "        vertical-align: middle;\n",
              "    }\n",
              "\n",
              "    .dataframe tbody tr th {\n",
              "        vertical-align: top;\n",
              "    }\n",
              "\n",
              "    .dataframe thead th {\n",
              "        text-align: right;\n",
              "    }\n",
              "</style>\n",
              "<table border=\"1\" class=\"dataframe\">\n",
              "  <thead>\n",
              "    <tr style=\"text-align: right;\">\n",
              "      <th></th>\n",
              "      <th>TICKER</th>\n",
              "      <th>PRECO</th>\n",
              "      <th>ULTIMO DIVIDENDO</th>\n",
              "      <th>DY</th>\n",
              "      <th>VALOR PATRIMONIAL COTA</th>\n",
              "      <th>P/VP</th>\n",
              "      <th>LIQUIDEZ MEDIA DIARIA</th>\n",
              "      <th>PERCENTUAL EM CAIXA</th>\n",
              "      <th>CAGR DIVIDENDOS 3 ANOS</th>\n",
              "      <th>CAGR VALOR CORA 3 ANOS</th>\n",
              "      <th>PATRIMONIO</th>\n",
              "      <th>N COTISTAS</th>\n",
              "      <th>GESTAO</th>\n",
              "      <th>N COTAS</th>\n",
              "    </tr>\n",
              "  </thead>\n",
              "  <tbody>\n",
              "    <tr>\n",
              "      <th>1</th>\n",
              "      <td>RBVA11</td>\n",
              "      <td>90.67</td>\n",
              "      <td>0.95</td>\n",
              "      <td>13.18</td>\n",
              "      <td>106.57</td>\n",
              "      <td>0.86</td>\n",
              "      <td>893175.85</td>\n",
              "      <td>0.77</td>\n",
              "      <td>4.89</td>\n",
              "      <td>-5.95</td>\n",
              "      <td>1.234967e+09</td>\n",
              "      <td>45948</td>\n",
              "      <td>Ativa</td>\n",
              "      <td>11588199</td>\n",
              "    </tr>\n",
              "    <tr>\n",
              "      <th>2</th>\n",
              "      <td>QAMI11</td>\n",
              "      <td>78.34</td>\n",
              "      <td>0.95</td>\n",
              "      <td>15.68</td>\n",
              "      <td>91.99</td>\n",
              "      <td>0.85</td>\n",
              "      <td>21992.53</td>\n",
              "      <td>4.06</td>\n",
              "      <td>0.00</td>\n",
              "      <td>0.00</td>\n",
              "      <td>7.371748e+07</td>\n",
              "      <td>1487</td>\n",
              "      <td>Ativa</td>\n",
              "      <td>801398</td>\n",
              "    </tr>\n",
              "    <tr>\n",
              "      <th>3</th>\n",
              "      <td>CPTS11</td>\n",
              "      <td>75.73</td>\n",
              "      <td>0.76</td>\n",
              "      <td>14.47</td>\n",
              "      <td>87.72</td>\n",
              "      <td>0.86</td>\n",
              "      <td>5554568.32</td>\n",
              "      <td>4.88</td>\n",
              "      <td>3.59</td>\n",
              "      <td>-4.51</td>\n",
              "      <td>2.788111e+09</td>\n",
              "      <td>211167</td>\n",
              "      <td>Ativa</td>\n",
              "      <td>31782814</td>\n",
              "    </tr>\n",
              "    <tr>\n",
              "      <th>6</th>\n",
              "      <td>APTO11</td>\n",
              "      <td>8.38</td>\n",
              "      <td>0.10</td>\n",
              "      <td>15.53</td>\n",
              "      <td>9.97</td>\n",
              "      <td>0.84</td>\n",
              "      <td>80298.15</td>\n",
              "      <td>13.96</td>\n",
              "      <td>0.00</td>\n",
              "      <td>0.00</td>\n",
              "      <td>4.001655e+07</td>\n",
              "      <td>6030</td>\n",
              "      <td>Ativa</td>\n",
              "      <td>4012857</td>\n",
              "    </tr>\n",
              "    <tr>\n",
              "      <th>7</th>\n",
              "      <td>KIVO11</td>\n",
              "      <td>86.50</td>\n",
              "      <td>1.20</td>\n",
              "      <td>18.80</td>\n",
              "      <td>96.46</td>\n",
              "      <td>0.87</td>\n",
              "      <td>165597.56</td>\n",
              "      <td>15.43</td>\n",
              "      <td>0.00</td>\n",
              "      <td>0.00</td>\n",
              "      <td>1.172066e+08</td>\n",
              "      <td>1485</td>\n",
              "      <td>Ativa</td>\n",
              "      <td>1215124</td>\n",
              "    </tr>\n",
              "  </tbody>\n",
              "</table>\n",
              "</div>\n",
              "      <button class=\"colab-df-convert\" onclick=\"convertToInteractive('df-c475b2db-421c-42c6-9554-2b98fd11ac92')\"\n",
              "              title=\"Convert this dataframe to an interactive table.\"\n",
              "              style=\"display:none;\">\n",
              "        \n",
              "  <svg xmlns=\"http://www.w3.org/2000/svg\" height=\"24px\"viewBox=\"0 0 24 24\"\n",
              "       width=\"24px\">\n",
              "    <path d=\"M0 0h24v24H0V0z\" fill=\"none\"/>\n",
              "    <path d=\"M18.56 5.44l.94 2.06.94-2.06 2.06-.94-2.06-.94-.94-2.06-.94 2.06-2.06.94zm-11 1L8.5 8.5l.94-2.06 2.06-.94-2.06-.94L8.5 2.5l-.94 2.06-2.06.94zm10 10l.94 2.06.94-2.06 2.06-.94-2.06-.94-.94-2.06-.94 2.06-2.06.94z\"/><path d=\"M17.41 7.96l-1.37-1.37c-.4-.4-.92-.59-1.43-.59-.52 0-1.04.2-1.43.59L10.3 9.45l-7.72 7.72c-.78.78-.78 2.05 0 2.83L4 21.41c.39.39.9.59 1.41.59.51 0 1.02-.2 1.41-.59l7.78-7.78 2.81-2.81c.8-.78.8-2.07 0-2.86zM5.41 20L4 18.59l7.72-7.72 1.47 1.35L5.41 20z\"/>\n",
              "  </svg>\n",
              "      </button>\n",
              "      \n",
              "  <style>\n",
              "    .colab-df-container {\n",
              "      display:flex;\n",
              "      flex-wrap:wrap;\n",
              "      gap: 12px;\n",
              "    }\n",
              "\n",
              "    .colab-df-convert {\n",
              "      background-color: #E8F0FE;\n",
              "      border: none;\n",
              "      border-radius: 50%;\n",
              "      cursor: pointer;\n",
              "      display: none;\n",
              "      fill: #1967D2;\n",
              "      height: 32px;\n",
              "      padding: 0 0 0 0;\n",
              "      width: 32px;\n",
              "    }\n",
              "\n",
              "    .colab-df-convert:hover {\n",
              "      background-color: #E2EBFA;\n",
              "      box-shadow: 0px 1px 2px rgba(60, 64, 67, 0.3), 0px 1px 3px 1px rgba(60, 64, 67, 0.15);\n",
              "      fill: #174EA6;\n",
              "    }\n",
              "\n",
              "    [theme=dark] .colab-df-convert {\n",
              "      background-color: #3B4455;\n",
              "      fill: #D2E3FC;\n",
              "    }\n",
              "\n",
              "    [theme=dark] .colab-df-convert:hover {\n",
              "      background-color: #434B5C;\n",
              "      box-shadow: 0px 1px 3px 1px rgba(0, 0, 0, 0.15);\n",
              "      filter: drop-shadow(0px 1px 2px rgba(0, 0, 0, 0.3));\n",
              "      fill: #FFFFFF;\n",
              "    }\n",
              "  </style>\n",
              "\n",
              "      <script>\n",
              "        const buttonEl =\n",
              "          document.querySelector('#df-c475b2db-421c-42c6-9554-2b98fd11ac92 button.colab-df-convert');\n",
              "        buttonEl.style.display =\n",
              "          google.colab.kernel.accessAllowed ? 'block' : 'none';\n",
              "\n",
              "        async function convertToInteractive(key) {\n",
              "          const element = document.querySelector('#df-c475b2db-421c-42c6-9554-2b98fd11ac92');\n",
              "          const dataTable =\n",
              "            await google.colab.kernel.invokeFunction('convertToInteractive',\n",
              "                                                     [key], {});\n",
              "          if (!dataTable) return;\n",
              "\n",
              "          const docLinkHtml = 'Like what you see? Visit the ' +\n",
              "            '<a target=\"_blank\" href=https://colab.research.google.com/notebooks/data_table.ipynb>data table notebook</a>'\n",
              "            + ' to learn more about interactive tables.';\n",
              "          element.innerHTML = '';\n",
              "          dataTable['output_type'] = 'display_data';\n",
              "          await google.colab.output.renderOutput(dataTable, element);\n",
              "          const docLink = document.createElement('div');\n",
              "          docLink.innerHTML = docLinkHtml;\n",
              "          element.appendChild(docLink);\n",
              "        }\n",
              "      </script>\n",
              "    </div>\n",
              "  </div>\n",
              "  "
            ],
            "text/plain": [
              "   TICKER  PRECO  ULTIMO DIVIDENDO     DY  VALOR PATRIMONIAL COTA  P/VP  \\\n",
              "1  RBVA11  90.67              0.95  13.18                  106.57  0.86   \n",
              "2  QAMI11  78.34              0.95  15.68                   91.99  0.85   \n",
              "3  CPTS11  75.73              0.76  14.47                   87.72  0.86   \n",
              "6  APTO11   8.38              0.10  15.53                    9.97  0.84   \n",
              "7  KIVO11  86.50              1.20  18.80                   96.46  0.87   \n",
              "\n",
              "   LIQUIDEZ MEDIA DIARIA  PERCENTUAL EM CAIXA  CAGR DIVIDENDOS 3 ANOS  \\\n",
              "1              893175.85                 0.77                    4.89   \n",
              "2               21992.53                 4.06                    0.00   \n",
              "3             5554568.32                 4.88                    3.59   \n",
              "6               80298.15                13.96                    0.00   \n",
              "7              165597.56                15.43                    0.00   \n",
              "\n",
              "    CAGR VALOR CORA 3 ANOS    PATRIMONIO  N COTISTAS GESTAO   N COTAS  \n",
              "1                    -5.95  1.234967e+09       45948  Ativa  11588199  \n",
              "2                     0.00  7.371748e+07        1487  Ativa    801398  \n",
              "3                    -4.51  2.788111e+09      211167  Ativa  31782814  \n",
              "6                     0.00  4.001655e+07        6030  Ativa   4012857  \n",
              "7                     0.00  1.172066e+08        1485  Ativa   1215124  "
            ]
          },
          "execution_count": 116,
          "metadata": {},
          "output_type": "execute_result"
        }
      ],
      "source": [
        "filtered_fii=fiis[(fiis['P/VP'] > q5) & (fiis['P/VP'] < q95)]\n",
        "filtered_fii.head()"
      ]
    },
    {
      "cell_type": "markdown",
      "metadata": {
        "id": "2YsHY61tCuaI"
      },
      "source": [
        "## Crie um gráfico com os valores mantidos no passo anterior e trace uma linha no eixo Y com o valor igual a 1 (P/VP = 1 Valor Justo de um FII)"
      ]
    },
    {
      "cell_type": "code",
      "execution_count": 119,
      "metadata": {
        "colab": {
          "base_uri": "https://localhost:8080/",
          "height": 331
        },
        "id": "v-jSE2VMCwKc",
        "outputId": "82abf963-d84a-456b-e702-0678e0f44547"
      },
      "outputs": [
        {
          "name": "stderr",
          "output_type": "stream",
          "text": [
            "/usr/local/lib/python3.9/dist-packages/pandas/plotting/_matplotlib/core.py:1114: UserWarning: No data for colormapping provided via 'c'. Parameters 'cmap' will be ignored\n",
            "  scatter = ax.scatter(\n"
          ]
        },
        {
          "data": {
            "text/plain": [
              "<matplotlib.lines.Line2D at 0x7eff503597f0>"
            ]
          },
          "execution_count": 119,
          "metadata": {},
          "output_type": "execute_result"
        },
        {
          "data": {
            "image/png": "[encoded data removed]",
            "text/plain": [
              "<Figure size 432x288 with 1 Axes>"
            ]
          },
          "metadata": {
            "needs_background": "light"
          },
          "output_type": "display_data"
        }
      ],
      "source": [
        "ax =  filtered_fii.plot.scatter(x='TICKER', y='P/VP')\n",
        "ax.axhline(1, color='r')\n",
        "\n",
        "\n"
      ]
    },
    {
      "cell_type": "markdown",
      "metadata": {
        "id": "ira2vOumDWJq"
      },
      "source": [
        "## .Reflita sobre este gráfico: Estamos em um bom momento para adquirir ou indicar FIIs?\n"
      ]
    },
    {
      "cell_type": "markdown",
      "metadata": {
        "id": "g05xKbiyDZEI"
      },
      "source": [
        "## Agora vamos trabalhar com médias móveis e análise técnica em cima de um dos FIIs (VISC11 – Fundo Imobiliário de Shopping).\n",
        "\n",
        "## Crie um gráfico com a base de dados baixada do site investing.com (cotação de preço de VISC11) e inclua neste gráfico as médias móveis dos seguintes períodos (MA14, MA60 e MA120)."
      ]
    },
    {
      "cell_type": "code",
      "execution_count": 168,
      "metadata": {
        "colab": {
          "base_uri": "https://localhost:8080/",
          "height": 294
        },
        "id": "uvD9tyCBDbh4",
        "outputId": "81699402-a536-4051-cf4f-22b0093776b9"
      },
      "outputs": [
        {
          "data": {
            "text/plain": [
              "<Axes: xlabel='Date'>"
            ]
          },
          "execution_count": 168,
          "metadata": {},
          "output_type": "execute_result"
        },
        {
          "data": {
            "image/png": "[encoded data removed]",
            "text/plain": [
              "<Figure size 432x288 with 1 Axes>"
            ]
          },
          "metadata": {
            "needs_background": "light"
          },
          "output_type": "display_data"
        }
      ],
      "source": [
        "import mplfinance as fplt\n",
        "\n",
        "visc11['MA14'] = visc11['Price'].rolling(30).mean()\n",
        "visc11['MA60'] = visc11['Price'].rolling(60).mean()\n",
        "visc11['MA120'] = visc11['Price'].rolling(120).mean()\n",
        "\n",
        "tmp =  visc11[['Date','Price','MA14', 'MA60', 'MA120']]\n",
        "tmp.plot.line()\n",
        "\n"
      ]
    },
    {
      "cell_type": "markdown",
      "metadata": {
        "id": "SyNyPaONKmL4"
      },
      "source": [
        "## Reflita sobre este gráfico: Está fácil de estimar a tendência deste ativo?"
      ]
    },
    {
      "cell_type": "markdown",
      "metadata": {
        "id": "ZyUAosnxKpKH"
      },
      "source": [
        "## Agora vamos trabalhar com o salvamento do gráfico anterior em formato PDF e salvar este arquivo em um Bucket do GCP (Google  Cloud Plataform)"
      ]
    }
  ],
  "metadata": {
    "colab": {
      "authorship_tag": "ABX9TyNDMYaFTVY1mY3y4wks0Ln7",
      "include_colab_link": true,
      "provenance": []
    },
    "kernelspec": {
      "display_name": "Python 3",
      "name": "python3"
    },
    "language_info": {
      "name": "python"
    }
  },
  "nbformat": 4,
  "nbformat_minor": 0
}
