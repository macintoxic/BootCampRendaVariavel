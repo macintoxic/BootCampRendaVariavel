{
  "nbformat": 4,
  "nbformat_minor": 0,
  "metadata": {
    "colab": {
      "provenance": [],
      "authorship_tag": "ABX9TyPMzH3wnsXJAZaPBuUaDXe3",
      "include_colab_link": true
    },
    "kernelspec": {
      "name": "python3",
      "display_name": "Python 3"
    },
    "language_info": {
      "name": "python"
    }
  },
  "cells": [
    {
      "cell_type": "markdown",
      "metadata": {
        "id": "view-in-github",
        "colab_type": "text"
      },
      "source": [
        "<a href=\"https://colab.research.google.com/github/macintoxic/BootCampRendaVariavel/blob/main/trabalho_pratico_2/trabalho_pratico_2.ipynb\" target=\"_parent\"><img src=\"https://colab.research.google.com/assets/colab-badge.svg\" alt=\"Open In Colab\"/></a>"
      ]
    },
    {
      "cell_type": "markdown",
      "source": [
        "## Instala as dependencias"
      ],
      "metadata": {
        "id": "6OPVaFllXx3K"
      }
    },
    {
      "cell_type": "code",
      "source": [
        "!pip install pandas_datareader --upgrade\n",
        "!pip install sidrapy"
      ],
      "metadata": {
        "id": "H9O3pQmKPd9C"
      },
      "execution_count": null,
      "outputs": []
    },
    {
      "cell_type": "markdown",
      "source": [
        "## Imports"
      ],
      "metadata": {
        "id": "J7N2xyMLJ4hS"
      }
    },
    {
      "cell_type": "code",
      "execution_count": 51,
      "metadata": {
        "id": "-aG_7d0iI8oL"
      },
      "outputs": [],
      "source": [
        "\n",
        "import yfinance as yf\n",
        "import requests\n",
        "import pandas as pd\n",
        "import sidrapy as sidra\n",
        "import sqlite3\n",
        "from pandas_datareader import data\n",
        "from sqlalchemy import create_engine \n",
        "\n"
      ]
    },
    {
      "cell_type": "markdown",
      "source": [
        "## Colete a série histórica dos dados de inflação de bebidas do IBGE usando a API sidra"
      ],
      "metadata": {
        "id": "f4roziYWK2RB"
      }
    },
    {
      "cell_type": "code",
      "source": [
        "url_ipca = 'https://apisidra.ibge.gov.br/values/t/1705/n1/all/v/355/p/all/c315/7169,7170,7389,7396,7397,7440,7443,12394/d/v355%202'\n",
        "\n",
        "ipca_raw = sidra.get_table(table_code=1705,\n",
        "                           territorial_level = \"1\",\n",
        "                           ibge_territorial_code = \"all\",\n",
        "                           period = \"all\",\n",
        "                           categories=[7169,7170,7389,7396,7397,7440,7443,12394]                           \n",
        "                           )\n",
        "\n",
        "\n",
        "ipca_raw.head()\n",
        "\n"
      ],
      "metadata": {
        "id": "q9Ud-CXQK7wp"
      },
      "execution_count": 15,
      "outputs": []
    },
    {
      "cell_type": "markdown",
      "source": [
        "## Colete a série histórica dos dados diários de preços e volume\n",
        "(OHLCV) para a ação ABEV3 do provedor de sua preferência (yahoo\n",
        "finance, marketstack, eodhistoricaldata, finnhub, alphavantage\n",
        "etc.);\n"
      ],
      "metadata": {
        "id": "jNPFrRaZReae"
      }
    },
    {
      "cell_type": "code",
      "source": [
        "yf.pdr_override()\n",
        "x  = data.get_data_yahoo(\"ABEV3.SA\") \n",
        "x['ticker'] = 'ABEV3.SA'"
      ],
      "metadata": {
        "colab": {
          "base_uri": "https://localhost:8080/"
        },
        "id": "HboirG2DRN1F",
        "outputId": "6cf18b40-428f-451c-9638-09fa43000186"
      },
      "execution_count": 57,
      "outputs": [
        {
          "output_type": "stream",
          "name": "stdout",
          "text": [
            "\r[*********************100%***********************]  1 of 1 completed\n"
          ]
        }
      ]
    },
    {
      "cell_type": "markdown",
      "source": [
        "## Crie e armazene esses dados em um banco de dados SQL local ou em nuvem"
      ],
      "metadata": {
        "id": "6GAoyhdwYC3C"
      }
    },
    {
      "cell_type": "code",
      "source": [
        "engine = create_engine('sqlite:////content/teste.db', echo=False)\n",
        "x.to_sql('data', con=engine)\n"
      ],
      "metadata": {
        "colab": {
          "base_uri": "https://localhost:8080/"
        },
        "id": "fOw1JeACVT9-",
        "outputId": "5c8b7c6f-8168-4861-c415-cb32e0d7c59f"
      },
      "execution_count": 56,
      "outputs": [
        {
          "output_type": "execute_result",
          "data": {
            "text/plain": [
              "5842"
            ]
          },
          "metadata": {},
          "execution_count": 56
        }
      ]
    }
  ]
}