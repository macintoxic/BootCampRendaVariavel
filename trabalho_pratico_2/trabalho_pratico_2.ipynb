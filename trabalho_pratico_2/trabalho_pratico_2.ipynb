{
  "nbformat": 4,
  "nbformat_minor": 0,
  "metadata": {
    "colab": {
      "provenance": [],
      "authorship_tag": "ABX9TyOe52eTywEL114JKLivRC/I"
    },
    "kernelspec": {
      "name": "python3",
      "display_name": "Python 3"
    },
    "language_info": {
      "name": "python"
    }
  },
  "cells": [
    {
      "cell_type": "markdown",
      "source": [
        "## Instala as dependencias"
      ],
      "metadata": {
        "id": "6OPVaFllXx3K"
      }
    },
    {
      "cell_type": "code",
      "source": [
        "!pip install apache-airflow\n",
        "!pip install pandas_datareader --upgrade\n",
        "!pip install sidrapy"
      ],
      "metadata": {
        "colab": {
          "base_uri": "https://localhost:8080/"
        },
        "id": "H9O3pQmKPd9C",
        "outputId": "63944c5b-c608-4cd3-884f-87c7b43644d1"
      },
      "execution_count": 2,
      "outputs": [
        {
          "output_type": "stream",
          "name": "stdout",
          "text": [
            "Looking in indexes: https://pypi.org/simple, https://us-python.pkg.dev/colab-wheels/public/simple/\n",
            "Collecting apache-airflow\n",
            "  Downloading apache_airflow-2.5.3-py3-none-any.whl (11.6 MB)\n",
            "\u001b[2K     \u001b[90m━━━━━━━━━━━━━━━━━━━━━━━━━━━━━━━━━━━━━━━━\u001b[0m \u001b[32m11.6/11.6 MB\u001b[0m \u001b[31m91.7 MB/s\u001b[0m eta \u001b[36m0:00:00\u001b[0m\n",
            "\u001b[?25hRequirement already satisfied: itsdangerous>=2.0 in /usr/local/lib/python3.9/dist-packages (from apache-airflow) (2.1.2)\n",
            "Requirement already satisfied: jinja2>=3.0.0 in /usr/local/lib/python3.9/dist-packages (from apache-airflow) (3.1.2)\n",
            "Requirement already satisfied: python-dateutil>=2.3 in /usr/local/lib/python3.9/dist-packages (from apache-airflow) (2.8.2)\n",
            "Collecting lockfile>=0.12.2\n",
            "  Downloading lockfile-0.12.2-py2.py3-none-any.whl (13 kB)\n",
            "Collecting lazy-object-proxy\n",
            "  Downloading lazy_object_proxy-1.9.0-cp39-cp39-manylinux_2_5_x86_64.manylinux1_x86_64.manylinux_2_17_x86_64.manylinux2014_x86_64.whl (62 kB)\n",
            "\u001b[2K     \u001b[90m━━━━━━━━━━━━━━━━━━━━━━━━━━━━━━━━━━━━━━━━\u001b[0m \u001b[32m62.1/62.1 KB\u001b[0m \u001b[31m9.6 MB/s\u001b[0m eta \u001b[36m0:00:00\u001b[0m\n",
            "\u001b[?25hRequirement already satisfied: attrs>=22.1.0 in /usr/local/lib/python3.9/dist-packages (from apache-airflow) (22.2.0)\n",
            "Collecting sqlalchemy-jsonfield>=1.0\n",
            "  Downloading SQLAlchemy_JSONField-1.0.1.post0-py3-none-any.whl (10 kB)\n",
            "Requirement already satisfied: packaging>=14.0 in /usr/local/lib/python3.9/dist-packages (from apache-airflow) (23.0)\n",
            "Requirement already satisfied: jsonschema>=4.0.0 in /usr/local/lib/python3.9/dist-packages (from apache-airflow) (4.3.3)\n",
            "Collecting gunicorn>=20.1.0\n",
            "  Downloading gunicorn-20.1.0-py3-none-any.whl (79 kB)\n",
            "\u001b[2K     \u001b[90m━━━━━━━━━━━━━━━━━━━━━━━━━━━━━━━━━━━━━━━━\u001b[0m \u001b[32m79.5/79.5 KB\u001b[0m \u001b[31m12.7 MB/s\u001b[0m eta \u001b[36m0:00:00\u001b[0m\n",
            "\u001b[?25hCollecting setproctitle>=1.1.8\n",
            "  Downloading setproctitle-1.3.2-cp39-cp39-manylinux_2_5_x86_64.manylinux1_x86_64.manylinux_2_17_x86_64.manylinux2014_x86_64.whl (30 kB)\n",
            "Collecting flask-wtf>=0.15\n",
            "  Downloading Flask_WTF-1.1.1-py3-none-any.whl (12 kB)\n",
            "Requirement already satisfied: tenacity!=8.2.0,>=6.2.0 in /usr/local/lib/python3.9/dist-packages (from apache-airflow) (8.2.2)\n",
            "Requirement already satisfied: termcolor>=1.1.0 in /usr/local/lib/python3.9/dist-packages (from apache-airflow) (2.2.0)\n",
            "Collecting alembic<2.0,>=1.6.3\n",
            "  Downloading alembic-1.10.3-py3-none-any.whl (212 kB)\n",
            "\u001b[2K     \u001b[90m━━━━━━━━━━━━━━━━━━━━━━━━━━━━━━━━━━━━━━\u001b[0m \u001b[32m212.3/212.3 KB\u001b[0m \u001b[31m29.8 MB/s\u001b[0m eta \u001b[36m0:00:00\u001b[0m\n",
            "\u001b[?25hCollecting argcomplete>=1.10\n",
            "  Downloading argcomplete-3.0.5-py3-none-any.whl (40 kB)\n",
            "\u001b[2K     \u001b[90m━━━━━━━━━━━━━━━━━━━━━━━━━━━━━━━━━━━━━━━━\u001b[0m \u001b[32m40.2/40.2 KB\u001b[0m \u001b[31m5.9 MB/s\u001b[0m eta \u001b[36m0:00:00\u001b[0m\n",
            "\u001b[?25hCollecting flask-appbuilder==4.1.4\n",
            "  Downloading Flask_AppBuilder-4.1.4-py3-none-any.whl (1.8 MB)\n",
            "\u001b[2K     \u001b[90m━━━━━━━━━━━━━━━━━━━━━━━━━━━━━━━━━━━━━━━━\u001b[0m \u001b[32m1.8/1.8 MB\u001b[0m \u001b[31m102.0 MB/s\u001b[0m eta \u001b[36m0:00:00\u001b[0m\n",
            "\u001b[?25hCollecting flask-caching>=1.5.0\n",
            "  Downloading Flask_Caching-2.0.2-py3-none-any.whl (28 kB)\n",
            "Collecting mdit-py-plugins>=0.3.0\n",
            "  Downloading mdit_py_plugins-0.3.5-py3-none-any.whl (52 kB)\n",
            "\u001b[2K     \u001b[90m━━━━━━━━━━━━━━━━━━━━━━━━━━━━━━━━━━━━━━━━\u001b[0m \u001b[32m52.1/52.1 KB\u001b[0m \u001b[31m9.0 MB/s\u001b[0m eta \u001b[36m0:00:00\u001b[0m\n",
            "\u001b[?25hCollecting flask-session>=0.4.0\n",
            "  Downloading Flask_Session-0.4.0-py2.py3-none-any.whl (7.5 kB)\n",
            "Collecting httpx\n",
            "  Downloading httpx-0.23.3-py3-none-any.whl (71 kB)\n",
            "\u001b[2K     \u001b[90m━━━━━━━━━━━━━━━━━━━━━━━━━━━━━━━━━━━━━━━━\u001b[0m \u001b[32m71.5/71.5 KB\u001b[0m \u001b[31m11.4 MB/s\u001b[0m eta \u001b[36m0:00:00\u001b[0m\n",
            "\u001b[?25hCollecting linkify-it-py>=2.0.0\n",
            "  Downloading linkify_it_py-2.0.0-py3-none-any.whl (19 kB)\n",
            "Collecting pyjwt>=2.0.0\n",
            "  Downloading PyJWT-2.6.0-py3-none-any.whl (20 kB)\n",
            "Requirement already satisfied: typing-extensions>=4.0.0 in /usr/local/lib/python3.9/dist-packages (from apache-airflow) (4.5.0)\n",
            "Collecting cron-descriptor>=1.2.24\n",
            "  Downloading cron_descriptor-1.2.35.tar.gz (29 kB)\n",
            "  Preparing metadata (setup.py) ... \u001b[?25l\u001b[?25hdone\n",
            "Requirement already satisfied: markdown>=3.0 in /usr/local/lib/python3.9/dist-packages (from apache-airflow) (3.4.3)\n",
            "Collecting python-nvd3>=0.15.0\n",
            "  Downloading python-nvd3-0.15.0.tar.gz (31 kB)\n",
            "  Preparing metadata (setup.py) ... \u001b[?25l\u001b[?25hdone\n",
            "Requirement already satisfied: sqlalchemy<2.0,>=1.4 in /usr/local/lib/python3.9/dist-packages (from apache-airflow) (1.4.47)\n",
            "Requirement already satisfied: tabulate>=0.7.5 in /usr/local/lib/python3.9/dist-packages (from apache-airflow) (0.8.10)\n",
            "Collecting apache-airflow-providers-ftp\n",
            "  Downloading apache_airflow_providers_ftp-3.3.1-py3-none-any.whl (19 kB)\n",
            "Collecting pendulum>=2.0\n",
            "  Downloading pendulum-2.1.2-cp39-cp39-manylinux1_x86_64.whl (155 kB)\n",
            "\u001b[2K     \u001b[90m━━━━━━━━━━━━━━━━━━━━━━━━━━━━━━━━━━━━━━\u001b[0m \u001b[32m155.3/155.3 KB\u001b[0m \u001b[31m21.1 MB/s\u001b[0m eta \u001b[36m0:00:00\u001b[0m\n",
            "\u001b[?25hRequirement already satisfied: psutil>=4.2.0 in /usr/local/lib/python3.9/dist-packages (from apache-airflow) (5.9.4)\n",
            "Collecting cattrs>=22.1.0\n",
            "  Downloading cattrs-22.2.0-py3-none-any.whl (35 kB)\n",
            "Requirement already satisfied: flask<2.3,>=2.2 in /usr/local/lib/python3.9/dist-packages (from apache-airflow) (2.2.3)\n",
            "Collecting colorlog<5.0,>=4.0.2\n",
            "  Downloading colorlog-4.8.0-py2.py3-none-any.whl (10 kB)\n",
            "Requirement already satisfied: werkzeug>=2.0 in /usr/local/lib/python3.9/dist-packages (from apache-airflow) (2.2.3)\n",
            "Collecting unicodecsv>=0.14.1\n",
            "  Downloading unicodecsv-0.14.1.tar.gz (10 kB)\n",
            "  Preparing metadata (setup.py) ... \u001b[?25l\u001b[?25hdone\n",
            "Collecting croniter>=0.3.17\n",
            "  Downloading croniter-1.3.8-py2.py3-none-any.whl (18 kB)\n",
            "Requirement already satisfied: rich>=12.4.4 in /usr/local/lib/python3.9/dist-packages (from apache-airflow) (13.3.3)\n",
            "Requirement already satisfied: graphviz>=0.12 in /usr/local/lib/python3.9/dist-packages (from apache-airflow) (0.20.1)\n",
            "Requirement already satisfied: markupsafe>=1.1.1 in /usr/local/lib/python3.9/dist-packages (from apache-airflow) (2.1.2)\n",
            "Requirement already satisfied: pygments>=2.0.1 in /usr/local/lib/python3.9/dist-packages (from apache-airflow) (2.14.0)\n",
            "Requirement already satisfied: pluggy>=1.0 in /usr/local/lib/python3.9/dist-packages (from apache-airflow) (1.0.0)\n",
            "Collecting marshmallow-oneofschema>=2.0.1\n",
            "  Downloading marshmallow_oneofschema-3.0.1-py2.py3-none-any.whl (5.8 kB)\n",
            "Requirement already satisfied: cryptography>=0.9.3 in /usr/local/lib/python3.9/dist-packages (from apache-airflow) (40.0.1)\n",
            "Collecting flask-login>=0.6.2\n",
            "  Downloading Flask_Login-0.6.2-py3-none-any.whl (17 kB)\n",
            "Collecting configupdater>=3.1.1\n",
            "  Downloading ConfigUpdater-3.1.1-py2.py3-none-any.whl (34 kB)\n",
            "Collecting pathspec~=0.9.0\n",
            "  Downloading pathspec-0.9.0-py2.py3-none-any.whl (31 kB)\n",
            "Collecting apache-airflow-providers-imap\n",
            "  Downloading apache_airflow_providers_imap-3.1.1-py3-none-any.whl (17 kB)\n",
            "Collecting blinker\n",
            "  Downloading blinker-1.6-py3-none-any.whl (13 kB)\n",
            "Collecting python-daemon>=3.0.0\n",
            "  Downloading python_daemon-3.0.1-py3-none-any.whl (31 kB)\n",
            "Requirement already satisfied: python-slugify>=5.0 in /usr/local/lib/python3.9/dist-packages (from apache-airflow) (8.0.1)\n",
            "Collecting connexion[flask]>=2.10.0\n",
            "  Downloading connexion-2.14.2-py2.py3-none-any.whl (95 kB)\n",
            "\u001b[2K     \u001b[90m━━━━━━━━━━━━━━━━━━━━━━━━━━━━━━━━━━━━━━━━\u001b[0m \u001b[32m95.1/95.1 KB\u001b[0m \u001b[31m15.1 MB/s\u001b[0m eta \u001b[36m0:00:00\u001b[0m\n",
            "\u001b[?25hCollecting deprecated>=1.2.13\n",
            "  Downloading Deprecated-1.2.13-py2.py3-none-any.whl (9.6 kB)\n",
            "Collecting dill>=0.2.2\n",
            "  Downloading dill-0.3.6-py3-none-any.whl (110 kB)\n",
            "\u001b[2K     \u001b[90m━━━━━━━━━━━━━━━━━━━━━━━━━━━━━━━━━━━━━━\u001b[0m \u001b[32m110.5/110.5 KB\u001b[0m \u001b[31m18.7 MB/s\u001b[0m eta \u001b[36m0:00:00\u001b[0m\n",
            "\u001b[?25hCollecting rfc3339-validator>=0.1.4\n",
            "  Downloading rfc3339_validator-0.1.4-py2.py3-none-any.whl (3.5 kB)\n",
            "Collecting apache-airflow-providers-http\n",
            "  Downloading apache_airflow_providers_http-4.2.0-py3-none-any.whl (22 kB)\n",
            "Collecting apache-airflow-providers-sqlite\n",
            "  Downloading apache_airflow_providers_sqlite-3.3.1-py3-none-any.whl (14 kB)\n",
            "Collecting apache-airflow-providers-common-sql\n",
            "  Downloading apache_airflow_providers_common_sql-1.3.4-py3-none-any.whl (31 kB)\n",
            "Requirement already satisfied: markdown-it-py>=2.1.0 in /usr/local/lib/python3.9/dist-packages (from apache-airflow) (2.2.0)\n",
            "Collecting colorama<1,>=0.3.9\n",
            "  Downloading colorama-0.4.6-py2.py3-none-any.whl (25 kB)\n",
            "Collecting marshmallow<4,>=3\n",
            "  Downloading marshmallow-3.19.0-py3-none-any.whl (49 kB)\n",
            "\u001b[2K     \u001b[90m━━━━━━━━━━━━━━━━━━━━━━━━━━━━━━━━━━━━━━━━\u001b[0m \u001b[32m49.1/49.1 KB\u001b[0m \u001b[31m7.2 MB/s\u001b[0m eta \u001b[36m0:00:00\u001b[0m\n",
            "\u001b[?25hCollecting WTForms<4\n",
            "  Downloading WTForms-3.0.1-py3-none-any.whl (136 kB)\n",
            "\u001b[2K     \u001b[90m━━━━━━━━━━━━━━━━━━━━━━━━━━━━━━━━━━━━━━\u001b[0m \u001b[32m136.5/136.5 KB\u001b[0m \u001b[31m19.0 MB/s\u001b[0m eta \u001b[36m0:00:00\u001b[0m\n",
            "\u001b[?25hRequirement already satisfied: click<9,>=8 in /usr/local/lib/python3.9/dist-packages (from flask-appbuilder==4.1.4->apache-airflow) (8.1.3)\n",
            "Collecting prison<1.0.0,>=0.2.1\n",
            "  Downloading prison-0.2.1-py2.py3-none-any.whl (5.8 kB)\n",
            "Collecting email-validator<2,>=1.0.5\n",
            "  Downloading email_validator-1.3.1-py2.py3-none-any.whl (22 kB)\n",
            "Collecting Flask-SQLAlchemy<3,>=2.4\n",
            "  Downloading Flask_SQLAlchemy-2.5.1-py2.py3-none-any.whl (17 kB)\n",
            "Collecting sqlalchemy-utils<1,>=0.32.21\n",
            "  Downloading SQLAlchemy_Utils-0.40.0-py3-none-any.whl (92 kB)\n",
            "\u001b[2K     \u001b[90m━━━━━━━━━━━━━━━━━━━━━━━━━━━━━━━━━━━━━━━━\u001b[0m \u001b[32m92.5/92.5 KB\u001b[0m \u001b[31m14.1 MB/s\u001b[0m eta \u001b[36m0:00:00\u001b[0m\n",
            "\u001b[?25hCollecting marshmallow-sqlalchemy<0.27.0,>=0.22.0\n",
            "  Downloading marshmallow_sqlalchemy-0.26.1-py2.py3-none-any.whl (15 kB)\n",
            "Collecting marshmallow-enum<2,>=1.5.1\n",
            "  Downloading marshmallow_enum-1.5.1-py2.py3-none-any.whl (4.2 kB)\n",
            "Collecting Flask-JWT-Extended<5.0.0,>=4.0.0\n",
            "  Downloading Flask_JWT_Extended-4.4.4-py2.py3-none-any.whl (22 kB)\n",
            "Collecting apispec[yaml]<4,>=3.3\n",
            "  Downloading apispec-3.3.2-py2.py3-none-any.whl (27 kB)\n",
            "Collecting Flask-Babel<3,>=1\n",
            "  Downloading Flask_Babel-2.0.0-py3-none-any.whl (9.3 kB)\n",
            "Collecting Mako\n",
            "  Downloading Mako-1.2.4-py3-none-any.whl (78 kB)\n",
            "\u001b[2K     \u001b[90m━━━━━━━━━━━━━━━━━━━━━━━━━━━━━━━━━━━━━━━━\u001b[0m \u001b[32m78.7/78.7 KB\u001b[0m \u001b[31m12.8 MB/s\u001b[0m eta \u001b[36m0:00:00\u001b[0m\n",
            "\u001b[?25hRequirement already satisfied: exceptiongroup in /usr/local/lib/python3.9/dist-packages (from cattrs>=22.1.0->apache-airflow) (1.1.1)\n",
            "Requirement already satisfied: PyYAML<7,>=5.1 in /usr/local/lib/python3.9/dist-packages (from connexion[flask]>=2.10.0->apache-airflow) (6.0)\n",
            "Collecting clickclick<21,>=1.2\n",
            "  Downloading clickclick-20.10.2-py2.py3-none-any.whl (7.4 kB)\n",
            "Requirement already satisfied: requests<3,>=2.9.1 in /usr/local/lib/python3.9/dist-packages (from connexion[flask]>=2.10.0->apache-airflow) (2.27.1)\n",
            "Collecting inflection<0.6,>=0.3.1\n",
            "  Downloading inflection-0.5.1-py2.py3-none-any.whl (9.5 kB)\n",
            "Requirement already satisfied: cffi>=1.12 in /usr/local/lib/python3.9/dist-packages (from cryptography>=0.9.3->apache-airflow) (1.15.1)\n",
            "Requirement already satisfied: wrapt<2,>=1.10 in /usr/local/lib/python3.9/dist-packages (from deprecated>=1.2.13->apache-airflow) (1.14.1)\n",
            "Requirement already satisfied: importlib-metadata>=3.6.0 in /usr/local/lib/python3.9/dist-packages (from flask<2.3,>=2.2->apache-airflow) (6.1.0)\n",
            "Collecting cachelib<0.10.0,>=0.9.0\n",
            "  Downloading cachelib-0.9.0-py3-none-any.whl (15 kB)\n",
            "Requirement already satisfied: setuptools>=3.0 in /usr/local/lib/python3.9/dist-packages (from gunicorn>=20.1.0->apache-airflow) (67.6.1)\n",
            "Requirement already satisfied: pyrsistent!=0.17.0,!=0.17.1,!=0.17.2,>=0.14.0 in /usr/local/lib/python3.9/dist-packages (from jsonschema>=4.0.0->apache-airflow) (0.19.3)\n",
            "Collecting uc-micro-py\n",
            "  Downloading uc_micro_py-1.0.1-py3-none-any.whl (6.2 kB)\n",
            "Requirement already satisfied: mdurl~=0.1 in /usr/local/lib/python3.9/dist-packages (from markdown-it-py>=2.1.0->apache-airflow) (0.1.2)\n",
            "Collecting pytzdata>=2020.1\n",
            "  Downloading pytzdata-2020.1-py2.py3-none-any.whl (489 kB)\n",
            "\u001b[2K     \u001b[90m━━━━━━━━━━━━━━━━━━━━━━━━━━━━━━━━━━━━━━\u001b[0m \u001b[32m490.0/490.0 KB\u001b[0m \u001b[31m48.0 MB/s\u001b[0m eta \u001b[36m0:00:00\u001b[0m\n",
            "\u001b[?25hRequirement already satisfied: docutils in /usr/local/lib/python3.9/dist-packages (from python-daemon>=3.0.0->apache-airflow) (0.16)\n",
            "Requirement already satisfied: six>=1.5 in /usr/local/lib/python3.9/dist-packages (from python-dateutil>=2.3->apache-airflow) (1.16.0)\n",
            "Requirement already satisfied: text-unidecode>=1.3 in /usr/local/lib/python3.9/dist-packages (from python-slugify>=5.0->apache-airflow) (1.3)\n",
            "Requirement already satisfied: greenlet!=0.4.17 in /usr/local/lib/python3.9/dist-packages (from sqlalchemy<2.0,>=1.4->apache-airflow) (2.0.2)\n",
            "Requirement already satisfied: sqlparse>=0.4.2 in /usr/local/lib/python3.9/dist-packages (from apache-airflow-providers-common-sql->apache-airflow) (0.4.3)\n",
            "Collecting aiohttp\n",
            "  Downloading aiohttp-3.8.4-cp39-cp39-manylinux_2_17_x86_64.manylinux2014_x86_64.whl (1.0 MB)\n",
            "\u001b[2K     \u001b[90m━━━━━━━━━━━━━━━━━━━━━━━━━━━━━━━━━━━━━━━━\u001b[0m \u001b[32m1.0/1.0 MB\u001b[0m \u001b[31m77.1 MB/s\u001b[0m eta \u001b[36m0:00:00\u001b[0m\n",
            "\u001b[?25hCollecting asgiref\n",
            "  Downloading asgiref-3.6.0-py3-none-any.whl (23 kB)\n",
            "Collecting requests-toolbelt\n",
            "  Downloading requests_toolbelt-0.10.1-py2.py3-none-any.whl (54 kB)\n",
            "\u001b[2K     \u001b[90m━━━━━━━━━━━━━━━━━━━━━━━━━━━━━━━━━━━━━━━━\u001b[0m \u001b[32m54.5/54.5 KB\u001b[0m \u001b[31m9.5 MB/s\u001b[0m eta \u001b[36m0:00:00\u001b[0m\n",
            "\u001b[?25hCollecting rfc3986[idna2008]<2,>=1.3\n",
            "  Downloading rfc3986-1.5.0-py2.py3-none-any.whl (31 kB)\n",
            "Requirement already satisfied: certifi in /usr/local/lib/python3.9/dist-packages (from httpx->apache-airflow) (2022.12.7)\n",
            "Requirement already satisfied: sniffio in /usr/local/lib/python3.9/dist-packages (from httpx->apache-airflow) (1.3.0)\n",
            "Collecting httpcore<0.17.0,>=0.15.0\n",
            "  Downloading httpcore-0.16.3-py3-none-any.whl (69 kB)\n",
            "\u001b[2K     \u001b[90m━━━━━━━━━━━━━━━━━━━━━━━━━━━━━━━━━━━━━━━━\u001b[0m \u001b[32m69.6/69.6 KB\u001b[0m \u001b[31m9.9 MB/s\u001b[0m eta \u001b[36m0:00:00\u001b[0m\n",
            "\u001b[?25hRequirement already satisfied: pycparser in /usr/local/lib/python3.9/dist-packages (from cffi>=1.12->cryptography>=0.9.3->apache-airflow) (2.21)\n",
            "Collecting dnspython>=1.15.0\n",
            "  Downloading dnspython-2.3.0-py3-none-any.whl (283 kB)\n",
            "\u001b[2K     \u001b[90m━━━━━━━━━━━━━━━━━━━━━━━━━━━━━━━━━━━━━━\u001b[0m \u001b[32m283.7/283.7 KB\u001b[0m \u001b[31m38.5 MB/s\u001b[0m eta \u001b[36m0:00:00\u001b[0m\n",
            "\u001b[?25hRequirement already satisfied: idna>=2.0.0 in /usr/local/lib/python3.9/dist-packages (from email-validator<2,>=1.0.5->flask-appbuilder==4.1.4->apache-airflow) (3.4)\n",
            "Requirement already satisfied: Babel>=2.3 in /usr/local/lib/python3.9/dist-packages (from Flask-Babel<3,>=1->flask-appbuilder==4.1.4->apache-airflow) (2.12.1)\n",
            "Requirement already satisfied: pytz in /usr/local/lib/python3.9/dist-packages (from Flask-Babel<3,>=1->flask-appbuilder==4.1.4->apache-airflow) (2022.7.1)\n",
            "Collecting h11<0.15,>=0.13\n",
            "  Downloading h11-0.14.0-py3-none-any.whl (58 kB)\n",
            "\u001b[2K     \u001b[90m━━━━━━━━━━━━━━━━━━━━━━━━━━━━━━━━━━━━━━━━\u001b[0m \u001b[32m58.3/58.3 KB\u001b[0m \u001b[31m7.8 MB/s\u001b[0m eta \u001b[36m0:00:00\u001b[0m\n",
            "\u001b[?25hRequirement already satisfied: anyio<5.0,>=3.0 in /usr/local/lib/python3.9/dist-packages (from httpcore<0.17.0,>=0.15.0->httpx->apache-airflow) (3.6.2)\n",
            "Requirement already satisfied: zipp>=0.5 in /usr/local/lib/python3.9/dist-packages (from importlib-metadata>=3.6.0->flask<2.3,>=2.2->apache-airflow) (3.15.0)\n",
            "Requirement already satisfied: charset-normalizer~=2.0.0 in /usr/local/lib/python3.9/dist-packages (from requests<3,>=2.9.1->connexion[flask]>=2.10.0->apache-airflow) (2.0.12)\n",
            "Requirement already satisfied: urllib3<1.27,>=1.21.1 in /usr/local/lib/python3.9/dist-packages (from requests<3,>=2.9.1->connexion[flask]>=2.10.0->apache-airflow) (1.26.15)\n",
            "Collecting async-timeout<5.0,>=4.0.0a3\n",
            "  Downloading async_timeout-4.0.2-py3-none-any.whl (5.8 kB)\n",
            "Collecting aiosignal>=1.1.2\n",
            "  Downloading aiosignal-1.3.1-py3-none-any.whl (7.6 kB)\n",
            "Collecting yarl<2.0,>=1.0\n",
            "  Downloading yarl-1.8.2-cp39-cp39-manylinux_2_17_x86_64.manylinux2014_x86_64.whl (264 kB)\n",
            "\u001b[2K     \u001b[90m━━━━━━━━━━━━━━━━━━━━━━━━━━━━━━━━━━━━━━\u001b[0m \u001b[32m264.6/264.6 KB\u001b[0m \u001b[31m35.8 MB/s\u001b[0m eta \u001b[36m0:00:00\u001b[0m\n",
            "\u001b[?25hCollecting multidict<7.0,>=4.5\n",
            "  Downloading multidict-6.0.4-cp39-cp39-manylinux_2_17_x86_64.manylinux2014_x86_64.whl (114 kB)\n",
            "\u001b[2K     \u001b[90m━━━━━━━━━━━━━━━━━━━━━━━━━━━━━━━━━━━━━━\u001b[0m \u001b[32m114.2/114.2 KB\u001b[0m \u001b[31m19.6 MB/s\u001b[0m eta \u001b[36m0:00:00\u001b[0m\n",
            "\u001b[?25hCollecting frozenlist>=1.1.1\n",
            "  Downloading frozenlist-1.3.3-cp39-cp39-manylinux_2_5_x86_64.manylinux1_x86_64.manylinux_2_17_x86_64.manylinux2014_x86_64.whl (158 kB)\n",
            "\u001b[2K     \u001b[90m━━━━━━━━━━━━━━━━━━━━━━━━━━━━━━━━━━━━━━\u001b[0m \u001b[32m158.8/158.8 KB\u001b[0m \u001b[31m21.1 MB/s\u001b[0m eta \u001b[36m0:00:00\u001b[0m\n",
            "\u001b[?25hBuilding wheels for collected packages: cron-descriptor, python-nvd3, unicodecsv\n",
            "  Building wheel for cron-descriptor (setup.py) ... \u001b[?25l\u001b[?25hdone\n",
            "  Created wheel for cron-descriptor: filename=cron_descriptor-1.2.35-py3-none-any.whl size=48440 sha256=1ca8cb15082e046184bf1737791b3120edd8a5d9f48bd5642f41d93887fe6080\n",
            "  Stored in directory: /root/.cache/pip/wheels/b6/c5/95/ecfd3eb95909eadd47c5ad25c8815c348d07bc248e12d3fd97\n",
            "  Building wheel for python-nvd3 (setup.py) ... \u001b[?25l\u001b[?25hdone\n",
            "  Created wheel for python-nvd3: filename=python_nvd3-0.15.0-py3-none-any.whl size=38163 sha256=e8f63da7d7959c03daaa62d7a1119114393c411bfd6dee9ac44ca58071916660\n",
            "  Stored in directory: /root/.cache/pip/wheels/60/e8/21/19a3dcfe90e8895952857d42152663fafc5a90d87d3dfe5f58\n",
            "  Building wheel for unicodecsv (setup.py) ... \u001b[?25l\u001b[?25hdone\n",
            "  Created wheel for unicodecsv: filename=unicodecsv-0.14.1-py3-none-any.whl size=10766 sha256=730462fea94fc2c177e1705e8eee0fd199b12fe070e393dde782215415a22023\n",
            "  Stored in directory: /root/.cache/pip/wheels/d8/c8/27/b237d3378d5c9ed25c2c63d9af1b3d5ccb99934f3dd030de87\n",
            "Successfully built cron-descriptor python-nvd3 unicodecsv\n",
            "Installing collected packages: unicodecsv, rfc3986, lockfile, cron-descriptor, colorlog, WTForms, uc-micro-py, setproctitle, rfc3339-validator, pytzdata, python-daemon, pyjwt, prison, pathspec, multidict, marshmallow, Mako, lazy-object-proxy, inflection, h11, gunicorn, frozenlist, dnspython, dill, deprecated, configupdater, colorama, clickclick, cattrs, cachelib, blinker, async-timeout, asgiref, argcomplete, apispec, apache-airflow-providers-imap, apache-airflow-providers-ftp, apache-airflow-providers-common-sql, yarl, sqlalchemy-utils, sqlalchemy-jsonfield, requests-toolbelt, python-nvd3, pendulum, mdit-py-plugins, marshmallow-sqlalchemy, marshmallow-oneofschema, marshmallow-enum, linkify-it-py, httpcore, email-validator, croniter, apache-airflow-providers-sqlite, alembic, aiosignal, httpx, flask-wtf, Flask-SQLAlchemy, flask-session, flask-login, Flask-JWT-Extended, flask-caching, Flask-Babel, connexion, aiohttp, flask-appbuilder, apache-airflow-providers-http, apache-airflow\n",
            "Successfully installed Flask-Babel-2.0.0 Flask-JWT-Extended-4.4.4 Flask-SQLAlchemy-2.5.1 Mako-1.2.4 WTForms-3.0.1 aiohttp-3.8.4 aiosignal-1.3.1 alembic-1.10.3 apache-airflow-2.5.3 apache-airflow-providers-common-sql-1.3.4 apache-airflow-providers-ftp-3.3.1 apache-airflow-providers-http-4.2.0 apache-airflow-providers-imap-3.1.1 apache-airflow-providers-sqlite-3.3.1 apispec-3.3.2 argcomplete-3.0.5 asgiref-3.6.0 async-timeout-4.0.2 blinker-1.6 cachelib-0.9.0 cattrs-22.2.0 clickclick-20.10.2 colorama-0.4.6 colorlog-4.8.0 configupdater-3.1.1 connexion-2.14.2 cron-descriptor-1.2.35 croniter-1.3.8 deprecated-1.2.13 dill-0.3.6 dnspython-2.3.0 email-validator-1.3.1 flask-appbuilder-4.1.4 flask-caching-2.0.2 flask-login-0.6.2 flask-session-0.4.0 flask-wtf-1.1.1 frozenlist-1.3.3 gunicorn-20.1.0 h11-0.14.0 httpcore-0.16.3 httpx-0.23.3 inflection-0.5.1 lazy-object-proxy-1.9.0 linkify-it-py-2.0.0 lockfile-0.12.2 marshmallow-3.19.0 marshmallow-enum-1.5.1 marshmallow-oneofschema-3.0.1 marshmallow-sqlalchemy-0.26.1 mdit-py-plugins-0.3.5 multidict-6.0.4 pathspec-0.9.0 pendulum-2.1.2 prison-0.2.1 pyjwt-2.6.0 python-daemon-3.0.1 python-nvd3-0.15.0 pytzdata-2020.1 requests-toolbelt-0.10.1 rfc3339-validator-0.1.4 rfc3986-1.5.0 setproctitle-1.3.2 sqlalchemy-jsonfield-1.0.1.post0 sqlalchemy-utils-0.40.0 uc-micro-py-1.0.1 unicodecsv-0.14.1 yarl-1.8.2\n",
            "Looking in indexes: https://pypi.org/simple, https://us-python.pkg.dev/colab-wheels/public/simple/\n",
            "Requirement already satisfied: pandas_datareader in /usr/local/lib/python3.9/dist-packages (0.10.0)\n",
            "Requirement already satisfied: lxml in /usr/local/lib/python3.9/dist-packages (from pandas_datareader) (4.9.2)\n",
            "Requirement already satisfied: pandas>=0.23 in /usr/local/lib/python3.9/dist-packages (from pandas_datareader) (1.4.4)\n",
            "Requirement already satisfied: requests>=2.19.0 in /usr/local/lib/python3.9/dist-packages (from pandas_datareader) (2.27.1)\n",
            "Requirement already satisfied: pytz>=2020.1 in /usr/local/lib/python3.9/dist-packages (from pandas>=0.23->pandas_datareader) (2022.7.1)\n",
            "Requirement already satisfied: python-dateutil>=2.8.1 in /usr/local/lib/python3.9/dist-packages (from pandas>=0.23->pandas_datareader) (2.8.2)\n",
            "Requirement already satisfied: numpy>=1.18.5 in /usr/local/lib/python3.9/dist-packages (from pandas>=0.23->pandas_datareader) (1.22.4)\n",
            "Requirement already satisfied: charset-normalizer~=2.0.0 in /usr/local/lib/python3.9/dist-packages (from requests>=2.19.0->pandas_datareader) (2.0.12)\n",
            "Requirement already satisfied: idna<4,>=2.5 in /usr/local/lib/python3.9/dist-packages (from requests>=2.19.0->pandas_datareader) (3.4)\n",
            "Requirement already satisfied: certifi>=2017.4.17 in /usr/local/lib/python3.9/dist-packages (from requests>=2.19.0->pandas_datareader) (2022.12.7)\n",
            "Requirement already satisfied: urllib3<1.27,>=1.21.1 in /usr/local/lib/python3.9/dist-packages (from requests>=2.19.0->pandas_datareader) (1.26.15)\n",
            "Requirement already satisfied: six>=1.5 in /usr/local/lib/python3.9/dist-packages (from python-dateutil>=2.8.1->pandas>=0.23->pandas_datareader) (1.16.0)\n",
            "Looking in indexes: https://pypi.org/simple, https://us-python.pkg.dev/colab-wheels/public/simple/\n",
            "Collecting sidrapy\n",
            "  Downloading sidrapy-0.1.4-py3-none-any.whl (6.9 kB)\n",
            "Requirement already satisfied: pandas in /usr/local/lib/python3.9/dist-packages (from sidrapy) (1.4.4)\n",
            "Requirement already satisfied: requests in /usr/local/lib/python3.9/dist-packages (from sidrapy) (2.27.1)\n",
            "Requirement already satisfied: python-dateutil>=2.8.1 in /usr/local/lib/python3.9/dist-packages (from pandas->sidrapy) (2.8.2)\n",
            "Requirement already satisfied: numpy>=1.18.5 in /usr/local/lib/python3.9/dist-packages (from pandas->sidrapy) (1.22.4)\n",
            "Requirement already satisfied: pytz>=2020.1 in /usr/local/lib/python3.9/dist-packages (from pandas->sidrapy) (2022.7.1)\n",
            "Requirement already satisfied: charset-normalizer~=2.0.0 in /usr/local/lib/python3.9/dist-packages (from requests->sidrapy) (2.0.12)\n",
            "Requirement already satisfied: idna<4,>=2.5 in /usr/local/lib/python3.9/dist-packages (from requests->sidrapy) (3.4)\n",
            "Requirement already satisfied: urllib3<1.27,>=1.21.1 in /usr/local/lib/python3.9/dist-packages (from requests->sidrapy) (1.26.15)\n",
            "Requirement already satisfied: certifi>=2017.4.17 in /usr/local/lib/python3.9/dist-packages (from requests->sidrapy) (2022.12.7)\n",
            "Requirement already satisfied: six>=1.5 in /usr/local/lib/python3.9/dist-packages (from python-dateutil>=2.8.1->pandas->sidrapy) (1.16.0)\n",
            "Installing collected packages: sidrapy\n",
            "Successfully installed sidrapy-0.1.4\n"
          ]
        }
      ]
    },
    {
      "cell_type": "markdown",
      "source": [
        "## Imports"
      ],
      "metadata": {
        "id": "J7N2xyMLJ4hS"
      }
    },
    {
      "cell_type": "code",
      "execution_count": 35,
      "metadata": {
        "id": "-aG_7d0iI8oL"
      },
      "outputs": [],
      "source": [
        "\n",
        "import yfinance as yf\n",
        "import requests\n",
        "import pandas as pd\n",
        "import sidrapy as sidra\n",
        "import sqlite3\n",
        "from pandas_datareader import data\n",
        "from sqlalchemy import create_engine \n",
        "\n"
      ]
    },
    {
      "cell_type": "markdown",
      "source": [
        "## Colete a série histórica dos dados de inflação de bebidas do IBGE usando a API sidra"
      ],
      "metadata": {
        "id": "f4roziYWK2RB"
      }
    },
    {
      "cell_type": "code",
      "source": [
        "def get_ipca():\n",
        "    url_ipca = 'https://apisidra.ibge.gov.br/values/t/1705/n1/all/v/355/p/all/c315/7169,7170,7389,7396,7397,7440,7443,12394/d/v355%202'\n",
        "\n",
        "    ipca_raw = sidra.get_table(table_code=1705,\n",
        "                            territorial_level = \"1\",\n",
        "                            ibge_territorial_code = \"all\",\n",
        "                            period = \"all\",\n",
        "                            categories=[7169,7170,7389,7396,7397,7440,7443,12394]                           \n",
        "                            )\n",
        "\n",
        "\n",
        "    return ipca_raw\n",
        "\n",
        "\n",
        "get_ipca().head()"
      ],
      "metadata": {
        "colab": {
          "base_uri": "https://localhost:8080/",
          "height": 337
        },
        "id": "q9Ud-CXQK7wp",
        "outputId": "27836427-5234-46ca-9f15-43e38ece1c72"
      },
      "execution_count": 36,
      "outputs": [
        {
          "output_type": "execute_result",
          "data": {
            "text/plain": [
              "                           NC                 NN                          MC  \\\n",
              "0  Nível Territorial (Código)  Nível Territorial  Unidade de Medida (Código)   \n",
              "1                           1             Brasil                           2   \n",
              "2                           1             Brasil                           2   \n",
              "3                           1             Brasil                               \n",
              "4                           1             Brasil                           2   \n",
              "\n",
              "                  MN         V              D1C     D1N           D2C  \\\n",
              "0  Unidade de Medida     Valor  Brasil (Código)  Brasil  Mês (Código)   \n",
              "1                  %      0.53                1  Brasil        201202   \n",
              "2                  %      1.18                1  Brasil        201202   \n",
              "3                          ...                1  Brasil        201202   \n",
              "4                  %  100.0000                1  Brasil        201202   \n",
              "\n",
              "              D2N                D3C                                      D3N  \\\n",
              "0             Mês  Variável (Código)                                 Variável   \n",
              "1  fevereiro 2012                355                 IPCA15 - Variação mensal   \n",
              "2  fevereiro 2012                356       IPCA15 - Variação acumulada no ano   \n",
              "3  fevereiro 2012               1120  IPCA15 - Variação acumulada em 12 meses   \n",
              "4  fevereiro 2012                357                     IPCA15 - Peso mensal   \n",
              "\n",
              "                                               D4C  \\\n",
              "0  Geral, grupo, subgrupo, item e subitem (Código)   \n",
              "1                                             7169   \n",
              "2                                             7169   \n",
              "3                                             7169   \n",
              "4                                             7169   \n",
              "\n",
              "                                      D4N  \n",
              "0  Geral, grupo, subgrupo, item e subitem  \n",
              "1                            Índice geral  \n",
              "2                            Índice geral  \n",
              "3                            Índice geral  \n",
              "4                            Índice geral  "
            ],
            "text/html": [
              "\n",
              "  <div id=\"df-9a0daf8f-a8d8-4282-ac48-22da3c89520d\">\n",
              "    <div class=\"colab-df-container\">\n",
              "      <div>\n",
              "<style scoped>\n",
              "    .dataframe tbody tr th:only-of-type {\n",
              "        vertical-align: middle;\n",
              "    }\n",
              "\n",
              "    .dataframe tbody tr th {\n",
              "        vertical-align: top;\n",
              "    }\n",
              "\n",
              "    .dataframe thead th {\n",
              "        text-align: right;\n",
              "    }\n",
              "</style>\n",
              "<table border=\"1\" class=\"dataframe\">\n",
              "  <thead>\n",
              "    <tr style=\"text-align: right;\">\n",
              "      <th></th>\n",
              "      <th>NC</th>\n",
              "      <th>NN</th>\n",
              "      <th>MC</th>\n",
              "      <th>MN</th>\n",
              "      <th>V</th>\n",
              "      <th>D1C</th>\n",
              "      <th>D1N</th>\n",
              "      <th>D2C</th>\n",
              "      <th>D2N</th>\n",
              "      <th>D3C</th>\n",
              "      <th>D3N</th>\n",
              "      <th>D4C</th>\n",
              "      <th>D4N</th>\n",
              "    </tr>\n",
              "  </thead>\n",
              "  <tbody>\n",
              "    <tr>\n",
              "      <th>0</th>\n",
              "      <td>Nível Territorial (Código)</td>\n",
              "      <td>Nível Territorial</td>\n",
              "      <td>Unidade de Medida (Código)</td>\n",
              "      <td>Unidade de Medida</td>\n",
              "      <td>Valor</td>\n",
              "      <td>Brasil (Código)</td>\n",
              "      <td>Brasil</td>\n",
              "      <td>Mês (Código)</td>\n",
              "      <td>Mês</td>\n",
              "      <td>Variável (Código)</td>\n",
              "      <td>Variável</td>\n",
              "      <td>Geral, grupo, subgrupo, item e subitem (Código)</td>\n",
              "      <td>Geral, grupo, subgrupo, item e subitem</td>\n",
              "    </tr>\n",
              "    <tr>\n",
              "      <th>1</th>\n",
              "      <td>1</td>\n",
              "      <td>Brasil</td>\n",
              "      <td>2</td>\n",
              "      <td>%</td>\n",
              "      <td>0.53</td>\n",
              "      <td>1</td>\n",
              "      <td>Brasil</td>\n",
              "      <td>201202</td>\n",
              "      <td>fevereiro 2012</td>\n",
              "      <td>355</td>\n",
              "      <td>IPCA15 - Variação mensal</td>\n",
              "      <td>7169</td>\n",
              "      <td>Índice geral</td>\n",
              "    </tr>\n",
              "    <tr>\n",
              "      <th>2</th>\n",
              "      <td>1</td>\n",
              "      <td>Brasil</td>\n",
              "      <td>2</td>\n",
              "      <td>%</td>\n",
              "      <td>1.18</td>\n",
              "      <td>1</td>\n",
              "      <td>Brasil</td>\n",
              "      <td>201202</td>\n",
              "      <td>fevereiro 2012</td>\n",
              "      <td>356</td>\n",
              "      <td>IPCA15 - Variação acumulada no ano</td>\n",
              "      <td>7169</td>\n",
              "      <td>Índice geral</td>\n",
              "    </tr>\n",
              "    <tr>\n",
              "      <th>3</th>\n",
              "      <td>1</td>\n",
              "      <td>Brasil</td>\n",
              "      <td></td>\n",
              "      <td></td>\n",
              "      <td>...</td>\n",
              "      <td>1</td>\n",
              "      <td>Brasil</td>\n",
              "      <td>201202</td>\n",
              "      <td>fevereiro 2012</td>\n",
              "      <td>1120</td>\n",
              "      <td>IPCA15 - Variação acumulada em 12 meses</td>\n",
              "      <td>7169</td>\n",
              "      <td>Índice geral</td>\n",
              "    </tr>\n",
              "    <tr>\n",
              "      <th>4</th>\n",
              "      <td>1</td>\n",
              "      <td>Brasil</td>\n",
              "      <td>2</td>\n",
              "      <td>%</td>\n",
              "      <td>100.0000</td>\n",
              "      <td>1</td>\n",
              "      <td>Brasil</td>\n",
              "      <td>201202</td>\n",
              "      <td>fevereiro 2012</td>\n",
              "      <td>357</td>\n",
              "      <td>IPCA15 - Peso mensal</td>\n",
              "      <td>7169</td>\n",
              "      <td>Índice geral</td>\n",
              "    </tr>\n",
              "  </tbody>\n",
              "</table>\n",
              "</div>\n",
              "      <button class=\"colab-df-convert\" onclick=\"convertToInteractive('df-9a0daf8f-a8d8-4282-ac48-22da3c89520d')\"\n",
              "              title=\"Convert this dataframe to an interactive table.\"\n",
              "              style=\"display:none;\">\n",
              "        \n",
              "  <svg xmlns=\"http://www.w3.org/2000/svg\" height=\"24px\"viewBox=\"0 0 24 24\"\n",
              "       width=\"24px\">\n",
              "    <path d=\"M0 0h24v24H0V0z\" fill=\"none\"/>\n",
              "    <path d=\"M18.56 5.44l.94 2.06.94-2.06 2.06-.94-2.06-.94-.94-2.06-.94 2.06-2.06.94zm-11 1L8.5 8.5l.94-2.06 2.06-.94-2.06-.94L8.5 2.5l-.94 2.06-2.06.94zm10 10l.94 2.06.94-2.06 2.06-.94-2.06-.94-.94-2.06-.94 2.06-2.06.94z\"/><path d=\"M17.41 7.96l-1.37-1.37c-.4-.4-.92-.59-1.43-.59-.52 0-1.04.2-1.43.59L10.3 9.45l-7.72 7.72c-.78.78-.78 2.05 0 2.83L4 21.41c.39.39.9.59 1.41.59.51 0 1.02-.2 1.41-.59l7.78-7.78 2.81-2.81c.8-.78.8-2.07 0-2.86zM5.41 20L4 18.59l7.72-7.72 1.47 1.35L5.41 20z\"/>\n",
              "  </svg>\n",
              "      </button>\n",
              "      \n",
              "  <style>\n",
              "    .colab-df-container {\n",
              "      display:flex;\n",
              "      flex-wrap:wrap;\n",
              "      gap: 12px;\n",
              "    }\n",
              "\n",
              "    .colab-df-convert {\n",
              "      background-color: #E8F0FE;\n",
              "      border: none;\n",
              "      border-radius: 50%;\n",
              "      cursor: pointer;\n",
              "      display: none;\n",
              "      fill: #1967D2;\n",
              "      height: 32px;\n",
              "      padding: 0 0 0 0;\n",
              "      width: 32px;\n",
              "    }\n",
              "\n",
              "    .colab-df-convert:hover {\n",
              "      background-color: #E2EBFA;\n",
              "      box-shadow: 0px 1px 2px rgba(60, 64, 67, 0.3), 0px 1px 3px 1px rgba(60, 64, 67, 0.15);\n",
              "      fill: #174EA6;\n",
              "    }\n",
              "\n",
              "    [theme=dark] .colab-df-convert {\n",
              "      background-color: #3B4455;\n",
              "      fill: #D2E3FC;\n",
              "    }\n",
              "\n",
              "    [theme=dark] .colab-df-convert:hover {\n",
              "      background-color: #434B5C;\n",
              "      box-shadow: 0px 1px 3px 1px rgba(0, 0, 0, 0.15);\n",
              "      filter: drop-shadow(0px 1px 2px rgba(0, 0, 0, 0.3));\n",
              "      fill: #FFFFFF;\n",
              "    }\n",
              "  </style>\n",
              "\n",
              "      <script>\n",
              "        const buttonEl =\n",
              "          document.querySelector('#df-9a0daf8f-a8d8-4282-ac48-22da3c89520d button.colab-df-convert');\n",
              "        buttonEl.style.display =\n",
              "          google.colab.kernel.accessAllowed ? 'block' : 'none';\n",
              "\n",
              "        async function convertToInteractive(key) {\n",
              "          const element = document.querySelector('#df-9a0daf8f-a8d8-4282-ac48-22da3c89520d');\n",
              "          const dataTable =\n",
              "            await google.colab.kernel.invokeFunction('convertToInteractive',\n",
              "                                                     [key], {});\n",
              "          if (!dataTable) return;\n",
              "\n",
              "          const docLinkHtml = 'Like what you see? Visit the ' +\n",
              "            '<a target=\"_blank\" href=https://colab.research.google.com/notebooks/data_table.ipynb>data table notebook</a>'\n",
              "            + ' to learn more about interactive tables.';\n",
              "          element.innerHTML = '';\n",
              "          dataTable['output_type'] = 'display_data';\n",
              "          await google.colab.output.renderOutput(dataTable, element);\n",
              "          const docLink = document.createElement('div');\n",
              "          docLink.innerHTML = docLinkHtml;\n",
              "          element.appendChild(docLink);\n",
              "        }\n",
              "      </script>\n",
              "    </div>\n",
              "  </div>\n",
              "  "
            ]
          },
          "metadata": {},
          "execution_count": 36
        }
      ]
    },
    {
      "cell_type": "markdown",
      "source": [
        "## Colete a série histórica dos dados diários de preços e volume\n",
        "(OHLCV) para a ação ABEV3 do provedor de sua preferência (yahoo\n",
        "finance, marketstack, eodhistoricaldata, finnhub, alphavantage\n",
        "etc.);\n"
      ],
      "metadata": {
        "id": "jNPFrRaZReae"
      }
    },
    {
      "cell_type": "code",
      "source": [
        "def get_abev3():\n",
        "    yf.pdr_override()\n",
        "    x  = data.get_data_yahoo(\"ABEV3.SA\") \n",
        "    x['ticker'] = 'ABEV3.SA'\n",
        "\n",
        "    return x"
      ],
      "metadata": {
        "id": "HboirG2DRN1F"
      },
      "execution_count": 37,
      "outputs": []
    },
    {
      "cell_type": "markdown",
      "source": [
        "## Crie e armazene esses dados em um banco de dados SQL local ou em nuvem"
      ],
      "metadata": {
        "id": "6GAoyhdwYC3C"
      }
    },
    {
      "cell_type": "code",
      "source": [
        "def save_to_sqlite():\n",
        "    engine = create_engine('sqlite:////content/market_data.db', echo=False)\n",
        "    get_abev3().to_sql('data', con=engine)\n"
      ],
      "metadata": {
        "id": "fOw1JeACVT9-"
      },
      "execution_count": 46,
      "outputs": []
    },
    {
      "cell_type": "markdown",
      "source": [
        "## Esboce como seria a implementação em Python de uma DAG Airflow, que  executaria as coletas implementadas anteriormente. O código não precisa rodar com sucesso, é apenas um esboço."
      ],
      "metadata": {
        "id": "_8pmiIloYc0O"
      }
    },
    {
      "cell_type": "markdown",
      "source": [
        "### Inicializa o airflow"
      ],
      "metadata": {
        "id": "sHTnYQ6vbdjB"
      }
    },
    {
      "cell_type": "code",
      "source": [
        "!airflow db init"
      ],
      "metadata": {
        "colab": {
          "base_uri": "https://localhost:8080/"
        },
        "id": "0O8_sL_nYhtQ",
        "outputId": "dfcbe102-7010-4ba6-d161-8d18125929ec"
      },
      "execution_count": 42,
      "outputs": [
        {
          "output_type": "stream",
          "name": "stdout",
          "text": [
            "DB: sqlite:////root/airflow/airflow.db\n",
            "[\u001b[34m2023-04-06 01:45:40,966\u001b[0m] {\u001b[34mmigration.py:\u001b[0m207} INFO\u001b[0m - Context impl \u001b[01mSQLiteImpl\u001b[22m.\u001b[0m\n",
            "[\u001b[34m2023-04-06 01:45:40,966\u001b[0m] {\u001b[34mmigration.py:\u001b[0m210} INFO\u001b[0m - Will assume \u001b[01mnon-transactional\u001b[22m DDL.\u001b[0m\n",
            "INFO  [alembic.runtime.migration] Context impl SQLiteImpl.\n",
            "INFO  [alembic.runtime.migration] Will assume non-transactional DDL.\n",
            "INFO  [alembic.runtime.migration] Running stamp_revision  -> 290244fb8b83\n",
            "WARNI [airflow.models.crypto] empty cryptography key - values will not be stored encrypted.\n",
            "Initialization done\n"
          ]
        }
      ]
    },
    {
      "cell_type": "markdown",
      "source": [
        "### Imports do airflow"
      ],
      "metadata": {
        "id": "q2u9TpkmbhZx"
      }
    },
    {
      "cell_type": "code",
      "source": [
        "from airflow import DAG\n",
        "from datetime import datetime, timedelta\n",
        "from airflow.operators.python import PythonOperator"
      ],
      "metadata": {
        "id": "iPOuhCdUbX7u"
      },
      "execution_count": 43,
      "outputs": []
    },
    {
      "cell_type": "code",
      "source": [
        "def get_ipca():\n",
        "    url_ipca = 'https://apisidra.ibge.gov.br/values/t/1705/n1/all/v/355/p/all/c315/7169,7170,7389,7396,7397,7440,7443,12394/d/v355%202'\n",
        "\n",
        "    ipca_raw = sidra.get_table(table_code=1705,\n",
        "                            territorial_level = \"1\",\n",
        "                            ibge_territorial_code = \"all\",\n",
        "                            period = \"all\",\n",
        "                            categories=[7169,7170,7389,7396,7397,7440,7443,12394]                           \n",
        "                            )\n",
        "\n",
        "\n",
        "    #ipca_raw.head()\n",
        "    return ipca_raw\n",
        "\n"
      ],
      "metadata": {
        "id": "iHBKtvqqKBRm"
      },
      "execution_count": 44,
      "outputs": []
    },
    {
      "cell_type": "markdown",
      "source": [
        "## Parâmetros default do DAG"
      ],
      "metadata": {
        "id": "tZH1YCTfLCYk"
      }
    },
    {
      "cell_type": "code",
      "source": [
        "args = {\n",
        "            'owner': 'airflow',    \n",
        "            #'start_date': airflow.utils.dates.days_ago(2),\n",
        "            # 'end_date': datetime(),\n",
        "            # 'depends_on_past': False,\n",
        "            #'email': ['airflow@example.com'],\n",
        "            #'email_on_failure': False,\n",
        "            #'email_on_retry': False,\n",
        "            # If a task fails, retry it once after waiting\n",
        "            # at least 5 minutes\n",
        "            #'retries': 1,\n",
        "            'retry_delay': timedelta(minutes=5),\n",
        "        }"
      ],
      "metadata": {
        "id": "xdKHoGqFKuFt"
      },
      "execution_count": 45,
      "outputs": []
    },
    {
      "cell_type": "markdown",
      "source": [
        "## Instanciar o DAG"
      ],
      "metadata": {
        "id": "c4-fnTqtK-Ws"
      }
    },
    {
      "cell_type": "code",
      "source": [
        "dag_python = DAG(\n",
        "\tdag_id = \"pythonoperator_demo\",\n",
        "\tdefault_args=args,\n",
        "\t# schedule_interval='0 0 * * *',\n",
        "\tschedule_interval='@once',\t\n",
        "\tdagrun_timeout=timedelta(seconds=1),\n",
        "\tdescription='use case of python operator in airflow',\n",
        "\tstart_date = airflow.utils.dates.days_ago(1))"
      ],
      "metadata": {
        "colab": {
          "base_uri": "https://localhost:8080/",
          "height": 66
        },
        "id": "DNRYC5K4KzUO",
        "outputId": "b0bb5d54-6e07-45c8-b268-5f35cf30866f"
      },
      "execution_count": 48,
      "outputs": [
        {
          "output_type": "display_data",
          "data": {
            "text/plain": [
              "\u001b[1;33m<\u001b[0m\u001b[1;33mipython-input-\u001b[0m\u001b[1;33m48\u001b[0m\u001b[1;33m-8ed45ba0abdd\u001b[0m\u001b[1;33m>\u001b[0m\u001b[1;33m:\u001b[0m\u001b[1;33m8\u001b[0m\u001b[1;33m RemovedInAirflow3Warning\u001b[0m\u001b[33m: Function `days_ago` is deprecated and will be removed in Airflow \u001b[0m\u001b[1;33m3.0\u001b[0m\u001b[33m. You can achieve equivalent behavior with `\u001b[0m\u001b[1;33mpendulum.today\u001b[0m\u001b[1;33m(\u001b[0m\u001b[33m'UTC'\u001b[0m\u001b[1;33m)\u001b[0m\u001b[1;33m.add\u001b[0m\u001b[1;33m(\u001b[0m\u001b[33mdays\u001b[0m\u001b[33m=-N, \u001b[0m\u001b[33m...\u001b[0m\u001b[1;33m)\u001b[0m\u001b[33m`\u001b[0m\n"
            ],
            "text/html": [
              "<pre style=\"white-space:pre;overflow-x:auto;line-height:normal;font-family:Menlo,'DejaVu Sans Mono',consolas,'Courier New',monospace\"><span style=\"color: #808000; text-decoration-color: #808000; font-weight: bold\">&lt;ipython-input-</span><span style=\"color: #808000; text-decoration-color: #808000; font-weight: bold\">48</span><span style=\"color: #808000; text-decoration-color: #808000; font-weight: bold\">-8ed45ba0abdd&gt;:</span><span style=\"color: #808000; text-decoration-color: #808000; font-weight: bold\">8</span><span style=\"color: #808000; text-decoration-color: #808000; font-weight: bold\"> RemovedInAirflow3Warning</span><span style=\"color: #808000; text-decoration-color: #808000\">: Function `days_ago` is deprecated and will be removed in Airflow </span><span style=\"color: #808000; text-decoration-color: #808000; font-weight: bold\">3.0</span><span style=\"color: #808000; text-decoration-color: #808000\">. You can achieve equivalent behavior with `</span><span style=\"color: #808000; text-decoration-color: #808000; font-weight: bold\">pendulum.today(</span><span style=\"color: #808000; text-decoration-color: #808000\">'UTC'</span><span style=\"color: #808000; text-decoration-color: #808000; font-weight: bold\">).add(</span><span style=\"color: #808000; text-decoration-color: #808000\">days</span><span style=\"color: #808000; text-decoration-color: #808000\">=-N, ...</span><span style=\"color: #808000; text-decoration-color: #808000; font-weight: bold\">)</span><span style=\"color: #808000; text-decoration-color: #808000\">`</span>\n",
              "</pre>\n"
            ]
          },
          "metadata": {}
        },
        {
          "output_type": "display_data",
          "data": {
            "text/plain": [
              "\u001b[1;33m<\u001b[0m\u001b[1;33mipython-input-\u001b[0m\u001b[1;33m48\u001b[0m\u001b[1;33m-8ed45ba0abdd\u001b[0m\u001b[1;33m>\u001b[0m\u001b[1;33m:\u001b[0m\u001b[1;33m1\u001b[0m\u001b[1;33m RemovedInAirflow3Warning\u001b[0m\u001b[33m: Param `schedule_interval` is deprecated and will be removed in a future release. Please use `schedule` instead.\u001b[0m\n"
            ],
            "text/html": [
              "<pre style=\"white-space:pre;overflow-x:auto;line-height:normal;font-family:Menlo,'DejaVu Sans Mono',consolas,'Courier New',monospace\"><span style=\"color: #808000; text-decoration-color: #808000; font-weight: bold\">&lt;ipython-input-</span><span style=\"color: #808000; text-decoration-color: #808000; font-weight: bold\">48</span><span style=\"color: #808000; text-decoration-color: #808000; font-weight: bold\">-8ed45ba0abdd&gt;:</span><span style=\"color: #808000; text-decoration-color: #808000; font-weight: bold\">1</span><span style=\"color: #808000; text-decoration-color: #808000; font-weight: bold\"> RemovedInAirflow3Warning</span><span style=\"color: #808000; text-decoration-color: #808000\">: Param `schedule_interval` is deprecated and will be removed in a future release. Please use `schedule` instead.</span>\n",
              "</pre>\n"
            ]
          },
          "metadata": {}
        }
      ]
    },
    {
      "cell_type": "markdown",
      "source": [],
      "metadata": {
        "id": "juiiLpduLSU0"
      }
    },
    {
      "cell_type": "code",
      "source": [
        "python_task_ipca = PythonOperator(task_id='get_ipca', python_callable=get_ipca, dag=dag_python)\n",
        "python_task_ipca = PythonOperator(task_id='get_abev3', python_callable=get_abev3, dag=dag_python)\n",
        "python_task_ipca = PythonOperator(task_id='save_to_sqlite', python_callable=save_to_sqlite, dag=dag_python)\n"
      ],
      "metadata": {
        "id": "1juv3XPZLSwa"
      },
      "execution_count": 49,
      "outputs": []
    }
  ]
}